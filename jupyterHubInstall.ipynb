{
 "cells": [
  {
   "cell_type": "markdown",
   "metadata": {
    "toc": "true"
   },
   "source": [
    "# Table of Contents\n",
    " <p><div class=\"lev1 toc-item\"><a href=\"#JupyterHub\" data-toc-modified-id=\"JupyterHub-1\"><span class=\"toc-item-num\">1&nbsp;&nbsp;</span>JupyterHub</a></div><div class=\"lev2 toc-item\"><a href=\"#Installing-Jupyter-Notebook\" data-toc-modified-id=\"Installing-Jupyter-Notebook-11\"><span class=\"toc-item-num\">1.1&nbsp;&nbsp;</span>Installing Jupyter Notebook</a></div><div class=\"lev3 toc-item\"><a href=\"#Install-Anaconda-for-Python3\" data-toc-modified-id=\"Install-Anaconda-for-Python3-111\"><span class=\"toc-item-num\">1.1.1&nbsp;&nbsp;</span>Install Anaconda for Python3</a></div><div class=\"lev3 toc-item\"><a href=\"#Install-Anaconda\" data-toc-modified-id=\"Install-Anaconda-112\"><span class=\"toc-item-num\">1.1.2&nbsp;&nbsp;</span>Install Anaconda</a></div><div class=\"lev2 toc-item\"><a href=\"#Configure-Jupyter-Notebook\" data-toc-modified-id=\"Configure-Jupyter-Notebook-12\"><span class=\"toc-item-num\">1.2&nbsp;&nbsp;</span>Configure Jupyter Notebook</a></div><div class=\"lev2 toc-item\"><a href=\"#Test-the-notebook-server\" data-toc-modified-id=\"Test-the-notebook-server-13\"><span class=\"toc-item-num\">1.3&nbsp;&nbsp;</span>Test the notebook server</a></div><div class=\"lev2 toc-item\"><a href=\"#Adding-the-kernels-to-the-notebook-server\" data-toc-modified-id=\"Adding-the-kernels-to-the-notebook-server-14\"><span class=\"toc-item-num\">1.4&nbsp;&nbsp;</span>Adding the kernels to the notebook server</a></div><div class=\"lev3 toc-item\"><a href=\"#Add-PySpark-kernel\" data-toc-modified-id=\"Add-PySpark-kernel-141\"><span class=\"toc-item-num\">1.4.1&nbsp;&nbsp;</span>Add PySpark kernel</a></div><div class=\"lev4 toc-item\"><a href=\"#Check-Python-version\" data-toc-modified-id=\"Check-Python-version-1411\"><span class=\"toc-item-num\">1.4.1.1&nbsp;&nbsp;</span>Check Python version</a></div><div class=\"lev4 toc-item\"><a href=\"#Install-IPython-for-Python2\" data-toc-modified-id=\"Install-IPython-for-Python2-1412\"><span class=\"toc-item-num\">1.4.1.2&nbsp;&nbsp;</span>Install IPython for Python2</a></div><div class=\"lev4 toc-item\"><a href=\"#Testing-the-PySpark-kernel\" data-toc-modified-id=\"Testing-the-PySpark-kernel-1413\"><span class=\"toc-item-num\">1.4.1.3&nbsp;&nbsp;</span>Testing the PySpark kernel</a></div><div class=\"lev4 toc-item\"><a href=\"#Errors-in-notebook-server\" data-toc-modified-id=\"Errors-in-notebook-server-1414\"><span class=\"toc-item-num\">1.4.1.4&nbsp;&nbsp;</span>Errors in notebook server</a></div><div class=\"lev3 toc-item\"><a href=\"#Add-the-R-kernel-(compile)\" data-toc-modified-id=\"Add-the-R-kernel-(compile)-142\"><span class=\"toc-item-num\">1.4.2&nbsp;&nbsp;</span>Add the R kernel (compile)</a></div><div class=\"lev4 toc-item\"><a href=\"#Testing-R\" data-toc-modified-id=\"Testing-R-1421\"><span class=\"toc-item-num\">1.4.2.1&nbsp;&nbsp;</span>Testing R</a></div><div class=\"lev4 toc-item\"><a href=\"#Test-SparkR\" data-toc-modified-id=\"Test-SparkR-1422\"><span class=\"toc-item-num\">1.4.2.2&nbsp;&nbsp;</span>Test SparkR</a></div><div class=\"lev3 toc-item\"><a href=\"#Add-the-Spark-Scala-kernel-(through-Apache-Toree)\" data-toc-modified-id=\"Add-the-Spark-Scala-kernel-(through-Apache-Toree)-143\"><span class=\"toc-item-num\">1.4.3&nbsp;&nbsp;</span>Add the Spark-Scala kernel (through Apache Toree)</a></div><div class=\"lev4 toc-item\"><a href=\"#Test-Spark-Scala\" data-toc-modified-id=\"Test-Spark-Scala-1431\"><span class=\"toc-item-num\">1.4.3.1&nbsp;&nbsp;</span>Test Spark-Scala</a></div><div class=\"lev2 toc-item\"><a href=\"#Installing-JupyterHub\" data-toc-modified-id=\"Installing-JupyterHub-15\"><span class=\"toc-item-num\">1.5&nbsp;&nbsp;</span>Installing JupyterHub</a></div><div class=\"lev3 toc-item\"><a href=\"#Install-NodeJS-and-its-package-manager\" data-toc-modified-id=\"Install-NodeJS-and-its-package-manager-151\"><span class=\"toc-item-num\">1.5.1&nbsp;&nbsp;</span>Install NodeJS and its package manager</a></div><div class=\"lev3 toc-item\"><a href=\"#Install-JupyterHub\" data-toc-modified-id=\"Install-JupyterHub-152\"><span class=\"toc-item-num\">1.5.2&nbsp;&nbsp;</span>Install JupyterHub</a></div><div class=\"lev3 toc-item\"><a href=\"#Configure-JupyterHub\" data-toc-modified-id=\"Configure-JupyterHub-153\"><span class=\"toc-item-num\">1.5.3&nbsp;&nbsp;</span>Configure JupyterHub</a></div><div class=\"lev3 toc-item\"><a href=\"#Test-JupyterHub\" data-toc-modified-id=\"Test-JupyterHub-154\"><span class=\"toc-item-num\">1.5.4&nbsp;&nbsp;</span>Test JupyterHub</a></div><div class=\"lev3 toc-item\"><a href=\"#Locking-down-the-environment\" data-toc-modified-id=\"Locking-down-the-environment-155\"><span class=\"toc-item-num\">1.5.5&nbsp;&nbsp;</span>Locking down the environment</a></div><div class=\"lev4 toc-item\"><a href=\"#Running-JupyterHub-without-root\" data-toc-modified-id=\"Running-JupyterHub-without-root-1551\"><span class=\"toc-item-num\">1.5.5.1&nbsp;&nbsp;</span>Running JupyterHub without root</a></div><div class=\"lev4 toc-item\"><a href=\"#Setting-up-SSL-encryption\" data-toc-modified-id=\"Setting-up-SSL-encryption-1552\"><span class=\"toc-item-num\">1.5.5.2&nbsp;&nbsp;</span>Setting up SSL encryption</a></div><div class=\"lev4 toc-item\"><a href=\"#Create-a-whitelist-of-allowed-users\" data-toc-modified-id=\"Create-a-whitelist-of-allowed-users-1553\"><span class=\"toc-item-num\">1.5.5.3&nbsp;&nbsp;</span>Create a whitelist of allowed users</a></div><div class=\"lev4 toc-item\"><a href=\"#Create-directories-to-keep-the-notebooks\" data-toc-modified-id=\"Create-directories-to-keep-the-notebooks-1554\"><span class=\"toc-item-num\">1.5.5.4&nbsp;&nbsp;</span>Create directories to keep the notebooks</a></div><div class=\"lev2 toc-item\"><a href=\"#JupyterHub-as-system-service\" data-toc-modified-id=\"JupyterHub-as-system-service-16\"><span class=\"toc-item-num\">1.6&nbsp;&nbsp;</span>JupyterHub as system service</a></div><div class=\"lev2 toc-item\"><a href=\"#Make-jupyterhub-admin-users\" data-toc-modified-id=\"Make-jupyterhub-admin-users-17\"><span class=\"toc-item-num\">1.7&nbsp;&nbsp;</span>Make jupyterhub admin users</a></div>"
   ]
  },
  {
   "cell_type": "markdown",
   "metadata": {
    "collapsed": true
   },
   "source": [
    "\n"
   ]
  },
  {
   "cell_type": "markdown",
   "metadata": {},
   "source": [
    "# JupyterHub\n",
    "Multi-Tenant notebook implementation\n",
    "Implementation steps\n",
    "Version 6, 2016-11-4"
   ]
  },
  {
   "cell_type": "markdown",
   "metadata": {},
   "source": [
    "First we set the name of the server to install on. We also define the an alias 'remote' to ease writing commands ot the server"
   ]
  },
  {
   "cell_type": "code",
   "execution_count": 1,
   "metadata": {
    "ExecuteTime": {
     "end_time": "2017-02-10T14:37:31.484953",
     "start_time": "2017-02-10T14:37:30.671657"
    },
    "collapsed": true,
    "run_control": {
     "frozen": false,
     "read_only": false
    }
   },
   "outputs": [],
   "source": [
    "export SERVER=kact-srv-001.kact.sblokalnet\n",
    "export LUSER=abr-sadm\n",
    "conda=\" source /opt/anaconda3/bin/activate /opt/anaconda3 && \"\n",
    "alias start_notebook='remote \\(yes \\| jupyter notebook --ip=\\$\\(hostname -f \\)\\)'\n",
    "alias and=\"'&&'\"\n",
    "\n",
    "function remote(){\n",
    "ssh $LUSER@$SERVER $@\n",
    "}\n",
    "export remote\n",
    "\n",
    "function remotesudo(){\n",
    "ssh $LUSER@$SERVER cd /tmp '&&' sudo \"bash -c '$@'\"\n",
    "}\n",
    "export remotesudo"
   ]
  },
  {
   "cell_type": "code",
   "execution_count": 10,
   "metadata": {
    "ExecuteTime": {
     "end_time": "2017-02-09T17:03:15.291623",
     "start_time": "2017-02-09T17:03:14.951463"
    },
    "collapsed": false,
    "run_control": {
     "frozen": false,
     "read_only": false
    }
   },
   "outputs": [
    {
     "name": "stdout",
     "output_type": "stream",
     "text": [
      "Python 2.7.5\n"
     ]
    }
   ],
   "source": [
    "remote python -V"
   ]
  },
  {
   "cell_type": "code",
   "execution_count": 28,
   "metadata": {
    "ExecuteTime": {
     "end_time": "2017-02-09T17:07:01.383022",
     "start_time": "2017-02-09T17:06:57.722527"
    },
    "collapsed": false,
    "run_control": {
     "frozen": false,
     "read_only": false
    }
   },
   "outputs": [
    {
     "name": "stdout",
     "output_type": "stream",
     "text": [
      "Python 3.5.2 :: Anaconda 4.2.0 (64-bit)\n"
     ]
    }
   ],
   "source": [
    "remote $conda python -V"
   ]
  },
  {
   "cell_type": "code",
   "execution_count": 20,
   "metadata": {
    "ExecuteTime": {
     "end_time": "2017-02-09T17:04:44.601916",
     "start_time": "2017-02-09T17:04:44.170896"
    },
    "collapsed": false,
    "run_control": {
     "frozen": false,
     "read_only": false
    }
   },
   "outputs": [
    {
     "name": "stdout",
     "output_type": "stream",
     "text": [
      "Python 2.7.5\n"
     ]
    }
   ],
   "source": [
    "remotesudo python -V"
   ]
  },
  {
   "cell_type": "code",
   "execution_count": 29,
   "metadata": {
    "ExecuteTime": {
     "end_time": "2017-02-09T17:07:11.274083",
     "start_time": "2017-02-09T17:07:07.753771"
    },
    "collapsed": false,
    "run_control": {
     "frozen": false,
     "read_only": false
    }
   },
   "outputs": [
    {
     "name": "stdout",
     "output_type": "stream",
     "text": [
      "Python 3.5.2 :: Anaconda 4.2.0 (64-bit)\n",
      "uid=0(root) gid=0(root) groups=0(root)\n"
     ]
    }
   ],
   "source": [
    "remotesudo $conda python -V\n",
    "remotesudo id"
   ]
  },
  {
   "cell_type": "markdown",
   "metadata": {},
   "source": [
    "## Installing Jupyter Notebook\n",
    "\n",
    "\n",
    "First we will install and test the Jupyter notebook as this is the basis for the user interface presented to the analysts. Both Jupyter and JupyterHub are best installed through Anaconda, a Python distribution that includes most libraries needed by people tasked with the analysis of data.\n",
    "\n",
    "### Install Anaconda for Python3\n",
    "\n",
    "IBM Open Platform is based on Python2. JupyterHub however requires Python3, so we must first start with Anaconda for Python3.\n",
    "Download Anaconda\n",
    "Download Anaconda 4.x for Python3 from: https://www.continuum.io/downloads \n",
    "\n",
    "Once downloaded, upload the shell script (Anaconda3….sh) to the BigInsights node that runs the Spark driver."
   ]
  },
  {
   "cell_type": "markdown",
   "metadata": {},
   "source": [
    "### Install Anaconda\n",
    "Run the following commands."
   ]
  },
  {
   "cell_type": "code",
   "execution_count": 30,
   "metadata": {
    "ExecuteTime": {
     "end_time": "2017-02-09T16:12:24.716902",
     "start_time": "2017-02-09T16:12:20.904912"
    },
    "collapsed": false,
    "run_control": {
     "frozen": false,
     "read_only": false
    }
   },
   "outputs": [
    {
     "name": "stdout",
     "output_type": "stream",
     "text": [
      "Connection to kact-srv-001.kact.sblokalnet closed.\n",
      "--2017-02-09 16:12:21--  https://repo.continuum.io/archive/Anaconda3-4.2.0-Linux-x86_64.sh\n",
      "Resolving repo.continuum.io (repo.continuum.io)... 104.16.19.10, 104.16.18.10, 2400:cb00:2048:1::6810:130a, ...\n",
      "Connecting to repo.continuum.io (repo.continuum.io)|104.16.19.10|:443... connected.\n",
      "WARNING: cannot verify repo.continuum.io's certificate, issued by ‘/C=US/O=thawte, Inc./CN=thawte SSL CA - G2’:\n",
      "  Unable to locally verify the issuer's authority.\n",
      "HTTP request sent, awaiting response... 200 OK\n",
      "Length: 478051940 (456M) [application/x-sh]\n",
      "Saving to: ‘/tmp/Anaconda3-4.2.0-Linux-x86_64.sh’\n",
      "\n",
      "100%[======================================>] 478.051.940  143MB/s   in 3,2s   \n",
      "\n",
      "2017-02-09 16:12:24 (143 MB/s) - ‘/tmp/Anaconda3-4.2.0-Linux-x86_64.sh’ saved [478051940/478051940]\n",
      "\n",
      "Connection to kact-srv-001.kact.sblokalnet closed.\n"
     ]
    }
   ],
   "source": [
    "remote rm -rf /tmp/Anaconda3-4.2.0-Linux-x86_64.sh\n",
    "remote wget --no-check-certificate https://repo.continuum.io/archive/Anaconda3-4.2.0-Linux-x86_64.sh -O /tmp/Anaconda3-4.2.0-Linux-x86_64.sh"
   ]
  },
  {
   "cell_type": "markdown",
   "metadata": {},
   "source": [
    "We now start the installation; this can take a couple of minutes."
   ]
  },
  {
   "cell_type": "code",
   "execution_count": 36,
   "metadata": {
    "ExecuteTime": {
     "end_time": "2017-02-09T16:47:28.872171",
     "start_time": "2017-02-09T16:45:43.796384"
    },
    "collapsed": false,
    "run_control": {
     "frozen": false,
     "read_only": false
    }
   },
   "outputs": [
    {
     "name": "stdout",
     "output_type": "stream",
     "text": [
      "Pseudo-terminal will not be allocated because stdin is not a terminal.\n",
      "Pseudo-terminal will not be allocated because stdin is not a terminal.\n",
      "Pseudo-terminal will not be allocated because stdin is not a terminal.\n",
      "PREFIX=/opt/anaconda3\n",
      "installing: python-3.5.2-0 ...\n",
      "installing: _license-1.1-py35_1 ...\n",
      "installing: _nb_ext_conf-0.3.0-py35_0 ...\n",
      "installing: alabaster-0.7.9-py35_0 ...\n",
      "installing: anaconda-clean-1.0.0-py35_0 ...\n",
      "installing: anaconda-client-1.5.1-py35_0 ...\n",
      "installing: anaconda-navigator-1.3.1-py35_0 ...\n",
      "installing: argcomplete-1.0.0-py35_1 ...\n",
      "installing: astroid-1.4.7-py35_0 ...\n",
      "installing: astropy-1.2.1-np111py35_0 ...\n",
      "installing: babel-2.3.4-py35_0 ...\n",
      "installing: backports-1.0-py35_0 ...\n",
      "installing: beautifulsoup4-4.5.1-py35_0 ...\n",
      "installing: bitarray-0.8.1-py35_0 ...\n",
      "installing: blaze-0.10.1-py35_0 ...\n",
      "installing: bokeh-0.12.2-py35_0 ...\n",
      "installing: boto-2.42.0-py35_0 ...\n",
      "installing: bottleneck-1.1.0-np111py35_0 ...\n",
      "installing: cairo-1.12.18-6 ...\n",
      "installing: cffi-1.7.0-py35_0 ...\n",
      "installing: chest-0.2.3-py35_0 ...\n",
      "installing: click-6.6-py35_0 ...\n",
      "installing: cloudpickle-0.2.1-py35_0 ...\n",
      "installing: clyent-1.2.2-py35_0 ...\n",
      "installing: colorama-0.3.7-py35_0 ...\n",
      "installing: configobj-5.0.6-py35_0 ...\n",
      "installing: contextlib2-0.5.3-py35_0 ...\n",
      "installing: cryptography-1.5-py35_0 ...\n",
      "installing: curl-7.49.0-1 ...\n",
      "installing: cycler-0.10.0-py35_0 ...\n",
      "installing: cython-0.24.1-py35_0 ...\n",
      "installing: cytoolz-0.8.0-py35_0 ...\n",
      "installing: dask-0.11.0-py35_0 ...\n",
      "installing: datashape-0.5.2-py35_0 ...\n",
      "installing: dbus-1.10.10-0 ...\n",
      "installing: decorator-4.0.10-py35_0 ...\n",
      "installing: dill-0.2.5-py35_0 ...\n",
      "installing: docutils-0.12-py35_2 ...\n",
      "installing: dynd-python-0.7.2-py35_0 ...\n",
      "installing: entrypoints-0.2.2-py35_0 ...\n",
      "installing: et_xmlfile-1.0.1-py35_0 ...\n",
      "installing: expat-2.1.0-0 ...\n",
      "installing: fastcache-1.0.2-py35_1 ...\n",
      "installing: filelock-2.0.6-py35_0 ...\n",
      "installing: flask-0.11.1-py35_0 ...\n",
      "installing: flask-cors-2.1.2-py35_0 ...\n",
      "installing: fontconfig-2.11.1-6 ...\n",
      "installing: freetype-2.5.5-1 ...\n",
      "installing: get_terminal_size-1.0.0-py35_0 ...\n",
      "installing: gevent-1.1.2-py35_0 ...\n",
      "installing: glib-2.43.0-1 ...\n",
      "installing: greenlet-0.4.10-py35_0 ...\n",
      "installing: gst-plugins-base-1.8.0-0 ...\n",
      "installing: gstreamer-1.8.0-0 ...\n",
      "installing: h5py-2.6.0-np111py35_2 ...\n",
      "installing: harfbuzz-0.9.39-1 ...\n",
      "installing: hdf5-1.8.17-1 ...\n",
      "installing: heapdict-1.0.0-py35_1 ...\n",
      "installing: icu-54.1-0 ...\n",
      "installing: idna-2.1-py35_0 ...\n",
      "installing: imagesize-0.7.1-py35_0 ...\n",
      "installing: ipykernel-4.5.0-py35_0 ...\n",
      "installing: ipython-5.1.0-py35_0 ...\n",
      "installing: ipython_genutils-0.1.0-py35_0 ...\n",
      "installing: ipywidgets-5.2.2-py35_0 ...\n",
      "installing: itsdangerous-0.24-py35_0 ...\n",
      "installing: jbig-2.1-0 ...\n",
      "installing: jdcal-1.2-py35_1 ...\n",
      "installing: jedi-0.9.0-py35_1 ...\n",
      "installing: jinja2-2.8-py35_1 ...\n",
      "installing: jpeg-8d-2 ...\n",
      "installing: jsonschema-2.5.1-py35_0 ...\n",
      "installing: jupyter-1.0.0-py35_3 ...\n",
      "installing: jupyter_client-4.4.0-py35_0 ...\n",
      "installing: jupyter_console-5.0.0-py35_0 ...\n",
      "installing: jupyter_core-4.2.0-py35_0 ...\n",
      "installing: lazy-object-proxy-1.2.1-py35_0 ...\n",
      "installing: libdynd-0.7.2-0 ...\n",
      "installing: libffi-3.2.1-0 ...\n",
      "installing: libgcc-4.8.5-2 ...\n",
      "installing: libgfortran-3.0.0-1 ...\n",
      "installing: libpng-1.6.22-0 ...\n",
      "installing: libsodium-1.0.10-0 ...\n",
      "installing: libtiff-4.0.6-2 ...\n",
      "installing: libxcb-1.12-0 ...\n",
      "installing: libxml2-2.9.2-0 ...\n",
      "installing: libxslt-1.1.28-0 ...\n",
      "installing: llvmlite-0.13.0-py35_0 ...\n",
      "installing: locket-0.2.0-py35_1 ...\n",
      "installing: lxml-3.6.4-py35_0 ...\n",
      "installing: markupsafe-0.23-py35_2 ...\n",
      "installing: matplotlib-1.5.3-np111py35_0 ...\n",
      "installing: mistune-0.7.3-py35_0 ...\n",
      "installing: mkl-11.3.3-0 ...\n",
      "installing: mkl-service-1.1.2-py35_2 ...\n",
      "installing: mpmath-0.19-py35_1 ...\n",
      "installing: multipledispatch-0.4.8-py35_0 ...\n",
      "installing: nb_anacondacloud-1.2.0-py35_0 ...\n",
      "installing: nb_conda-2.0.0-py35_0 ...\n",
      "installing: nb_conda_kernels-2.0.0-py35_0 ...\n",
      "installing: nbconvert-4.2.0-py35_0 ...\n",
      "installing: nbformat-4.1.0-py35_0 ...\n",
      "installing: nbpresent-3.0.2-py35_0 ...\n",
      "installing: networkx-1.11-py35_0 ...\n",
      "installing: nltk-3.2.1-py35_0 ...\n",
      "installing: nose-1.3.7-py35_1 ...\n",
      "installing: notebook-4.2.3-py35_0 ...\n",
      "installing: numba-0.28.1-np111py35_0 ...\n",
      "installing: numexpr-2.6.1-np111py35_0 ...\n",
      "installing: numpy-1.11.1-py35_0 ...\n",
      "installing: odo-0.5.0-py35_1 ...\n",
      "installing: openpyxl-2.3.2-py35_0 ...\n",
      "installing: openssl-1.0.2j-0 ...\n",
      "installing: pandas-0.18.1-np111py35_0 ...\n",
      "installing: partd-0.3.6-py35_0 ...\n",
      "installing: patchelf-0.9-0 ...\n",
      "installing: path.py-8.2.1-py35_0 ...\n",
      "installing: pathlib2-2.1.0-py35_0 ...\n",
      "installing: patsy-0.4.1-py35_0 ...\n",
      "installing: pep8-1.7.0-py35_0 ...\n",
      "installing: pexpect-4.0.1-py35_0 ...\n",
      "installing: pickleshare-0.7.4-py35_0 ...\n",
      "installing: pillow-3.3.1-py35_0 ...\n",
      "installing: pip-8.1.2-py35_0 ...\n",
      "installing: pixman-0.32.6-0 ...\n",
      "installing: pkginfo-1.3.2-py35_0 ...\n",
      "installing: ply-3.9-py35_0 ...\n",
      "installing: prompt_toolkit-1.0.3-py35_0 ...\n",
      "installing: psutil-4.3.1-py35_0 ...\n",
      "installing: ptyprocess-0.5.1-py35_0 ...\n",
      "installing: py-1.4.31-py35_0 ...\n",
      "installing: pyasn1-0.1.9-py35_0 ...\n",
      "installing: pycosat-0.6.1-py35_1 ...\n",
      "installing: pycparser-2.14-py35_1 ...\n",
      "installing: pycrypto-2.6.1-py35_4 ...\n",
      "installing: pycurl-7.43.0-py35_0 ...\n",
      "installing: pyflakes-1.3.0-py35_0 ...\n",
      "installing: pygments-2.1.3-py35_0 ...\n",
      "installing: pylint-1.5.4-py35_1 ...\n",
      "installing: pyopenssl-16.0.0-py35_0 ...\n",
      "installing: pyparsing-2.1.4-py35_0 ...\n",
      "installing: pyqt-5.6.0-py35_0 ...\n",
      "installing: pytables-3.2.3.1-np111py35_0 ...\n",
      "installing: pytest-2.9.2-py35_0 ...\n",
      "installing: python-dateutil-2.5.3-py35_0 ...\n",
      "installing: pytz-2016.6.1-py35_0 ...\n",
      "installing: pyyaml-3.12-py35_0 ...\n",
      "installing: pyzmq-15.4.0-py35_0 ...\n",
      "installing: qt-5.6.0-0 ...\n",
      "installing: qtawesome-0.3.3-py35_0 ...\n",
      "installing: qtconsole-4.2.1-py35_1 ...\n",
      "installing: qtpy-1.1.2-py35_0 ...\n",
      "installing: readline-6.2-2 ...\n",
      "installing: redis-3.2.0-0 ...\n",
      "installing: redis-py-2.10.5-py35_0 ...\n",
      "installing: requests-2.11.1-py35_0 ...\n",
      "installing: rope-0.9.4-py35_1 ...\n",
      "installing: scikit-image-0.12.3-np111py35_1 ...\n",
      "installing: scikit-learn-0.17.1-np111py35_2 ...\n",
      "installing: scipy-0.18.1-np111py35_0 ...\n",
      "installing: setuptools-27.2.0-py35_0 ...\n",
      "installing: simplegeneric-0.8.1-py35_1 ...\n",
      "installing: singledispatch-3.4.0.3-py35_0 ...\n",
      "installing: sip-4.18-py35_0 ...\n",
      "installing: six-1.10.0-py35_0 ...\n",
      "installing: snowballstemmer-1.2.1-py35_0 ...\n",
      "installing: sockjs-tornado-1.0.3-py35_0 ...\n",
      "installing: sphinx-1.4.6-py35_0 ...\n",
      "installing: spyder-3.0.0-py35_0 ...\n",
      "installing: sqlalchemy-1.0.13-py35_0 ...\n",
      "installing: sqlite-3.13.0-0 ...\n",
      "installing: statsmodels-0.6.1-np111py35_1 ...\n",
      "installing: sympy-1.0-py35_0 ...\n",
      "installing: terminado-0.6-py35_0 ...\n",
      "installing: tk-8.5.18-0 ...\n",
      "installing: toolz-0.8.0-py35_0 ...\n",
      "installing: tornado-4.4.1-py35_0 ...\n",
      "installing: traitlets-4.3.0-py35_0 ...\n",
      "installing: unicodecsv-0.14.1-py35_0 ...\n",
      "installing: wcwidth-0.1.7-py35_0 ...\n",
      "installing: werkzeug-0.11.11-py35_0 ...\n",
      "installing: wheel-0.29.0-py35_0 ...\n",
      "installing: widgetsnbextension-1.2.6-py35_0 ...\n",
      "installing: wrapt-1.10.6-py35_0 ...\n",
      "installing: xlrd-1.0.0-py35_0 ...\n",
      "installing: xlsxwriter-0.9.3-py35_0 ...\n",
      "installing: xlwt-1.1.2-py35_0 ...\n",
      "installing: xz-5.2.2-0 ...\n",
      "installing: yaml-0.1.6-0 ...\n",
      "installing: zeromq-4.1.4-0 ...\n",
      "installing: zlib-1.2.8-3 ...\n",
      "installing: anaconda-4.2.0-np111py35_0 ...\n",
      "installing: ruamel_yaml-0.11.14-py35_0 ...\n",
      "installing: conda-4.2.9-py35_0 ...\n",
      "installing: conda-build-2.0.2-py35_0 ...\n",
      "Python 3.5.2 :: Continuum Analytics, Inc.\n",
      "creating default environment...\n",
      "installation finished.\n"
     ]
    }
   ],
   "source": [
    "remote chmod a+x /tmp/Anaconda3-4.2.0-Linux-x86_64.sh\n",
    "remotesudo rm -rf /opt/anaconda3\n",
    "remotesudo bash /tmp/Anaconda3-4.2.0-Linux-x86_64.sh -b -p /opt/anaconda3"
   ]
  },
  {
   "cell_type": "markdown",
   "metadata": {},
   "source": [
    "The installation now starts; this can take a couple of minutes."
   ]
  },
  {
   "cell_type": "markdown",
   "metadata": {},
   "source": [
    "## Configure Jupyter Notebook\n",
    "As we’re planning to use a single configuration across notebook users, the notebook configuration will be created at a central location, /etc/jupyter.\n",
    "Execute the following steps."
   ]
  },
  {
   "cell_type": "code",
   "execution_count": 37,
   "metadata": {
    "ExecuteTime": {
     "end_time": "2017-02-09T16:47:38.660371",
     "start_time": "2017-02-09T16:47:32.948751"
    },
    "collapsed": false,
    "run_control": {
     "frozen": false,
     "read_only": false
    }
   },
   "outputs": [
    {
     "name": "stdout",
     "output_type": "stream",
     "text": [
      "Pseudo-terminal will not be allocated because stdin is not a terminal.\n",
      "Pseudo-terminal will not be allocated because stdin is not a terminal.\n",
      "Writing default config to: /etc/jupyter/jupyter_notebook_config.py\n"
     ]
    }
   ],
   "source": [
    "remotesudo mkdir -p /etc/jupyter\n",
    "remotesudo $conda jupyter notebook -y --generate-config --config=/etc/jupyter/jupyter_notebook_config.py"
   ]
  },
  {
   "cell_type": "markdown",
   "metadata": {},
   "source": [
    "Change the configuration so that Jupyter will not try and start a browser."
   ]
  },
  {
   "cell_type": "code",
   "execution_count": 4,
   "metadata": {
    "ExecuteTime": {
     "end_time": "2017-02-10T14:38:32.613954",
     "start_time": "2017-02-10T14:38:30.852445"
    },
    "collapsed": false,
    "run_control": {
     "frozen": false,
     "read_only": false
    }
   },
   "outputs": [
    {
     "name": "stdout",
     "output_type": "stream",
     "text": [
      "#c.NotebookApp.open_browser = True\n"
     ]
    }
   ],
   "source": [
    "remotesudo \"sed -i 's/^[#]\\?c\\.NotebookApp\\.open_browser.*/c.NotebookApp.open_browser=False'/ /etc/jupyter/jupyter_notebook_config.py\"\n",
    "remote grep open_browser /etc/jupyter/jupyter_notebook_config.py"
   ]
  },
  {
   "cell_type": "markdown",
   "metadata": {},
   "source": [
    "Change the parameter \"c.NotebookApp.open_browser\" to \"False\" and save the configuration file."
   ]
  },
  {
   "cell_type": "markdown",
   "metadata": {},
   "source": [
    "## Test the notebook server\n",
    "Now that the Jupyter notebook is configured, run a basic test against it by starting it and opening a notebook. For basic Python testing, you can start the notebook server as user root, but with Spark notebooks you will need access to the HDFS directory structure.\n",
    "\n",
    "Start the notebook server as your normal user by entering the following command."
   ]
  },
  {
   "cell_type": "code",
   "execution_count": null,
   "metadata": {
    "ExecuteTime": {
     "end_time": "2017-02-09T10:35:29.907947",
     "start_time": "2017-02-09T10:34:47.374595"
    },
    "collapsed": false,
    "run_control": {
     "frozen": false,
     "read_only": false
    }
   },
   "outputs": [],
   "source": [
    "start_notebook"
   ]
  },
  {
   "cell_type": "markdown",
   "metadata": {},
   "source": [
    "Some information and warning messages will be issued. You can ignore the warning messages; they do not hinder the running of the notebook."
   ]
  },
  {
   "cell_type": "markdown",
   "metadata": {},
   "source": [
    "Now, start a browser and navigate to the Jupyter notebook using address:\n",
    "http://jupyter-system-ip-address:8888 \n",
    "Create a new Python notebook and enter a Python statement, for example “print(1+1)”. Then execute it using Shift-Enter."
   ]
  },
  {
   "cell_type": "markdown",
   "metadata": {},
   "source": [
    "![alt text](jupyterInitial.png \"Logo Title Text 1\")"
   ]
  },
  {
   "cell_type": "markdown",
   "metadata": {},
   "source": [
    "Once you’ve tested that the notebook server works, shut it down by interrupting the above command."
   ]
  },
  {
   "cell_type": "markdown",
   "metadata": {},
   "source": [
    "## Adding the kernels to the notebook server\n",
    "By default, only a Python3 kernel is available from the notebook server. In this section we will add the PySpark, Scala and R kernels to the notebook configuration so they can be used by the analysts.\n",
    "Even though it is possible to configure kernels per user, we define the kernels in a central location."
   ]
  },
  {
   "cell_type": "markdown",
   "metadata": {},
   "source": [
    "### Add PySpark kernel\n",
    "Before adding the PySpark kernel to the Jupyter notebook, we first need to ensure that the ipykernel is available for Python2, as this is the basis for Spark 1.x.y."
   ]
  },
  {
   "cell_type": "markdown",
   "metadata": {},
   "source": [
    "#### Check Python version\n",
    "Please ensure that the python command executes Python 2.7. You may have to remove /opt/anaconda3/bin from the path and/or add the /opt/anaconda2/bin at the beginning of the path.\n",
    "Run the following command to determine the Python version:"
   ]
  },
  {
   "cell_type": "code",
   "execution_count": 40,
   "metadata": {
    "ExecuteTime": {
     "end_time": "2017-02-09T16:48:00.700135",
     "start_time": "2017-02-09T16:48:00.413460"
    },
    "collapsed": false,
    "run_control": {
     "frozen": false,
     "read_only": false
    }
   },
   "outputs": [
    {
     "name": "stdout",
     "output_type": "stream",
     "text": [
      "Pseudo-terminal will not be allocated because stdin is not a terminal.\n",
      "Python 2.7.5\n"
     ]
    }
   ],
   "source": [
    "remote python -V"
   ]
  },
  {
   "cell_type": "markdown",
   "metadata": {},
   "source": [
    "The result should be like the following:\n",
    "\n",
    "    Python 2.7.12 :: Anaconda 4.2.0 (64-bit)\n",
    "or\n",
    "\n",
    "    Python 2.7.5"
   ]
  },
  {
   "cell_type": "markdown",
   "metadata": {},
   "source": [
    "Then, record the location of the command. You will need this later when you specify the path in the kernel.json files."
   ]
  },
  {
   "cell_type": "code",
   "execution_count": 44,
   "metadata": {
    "ExecuteTime": {
     "end_time": "2017-02-09T16:48:19.132102",
     "start_time": "2017-02-09T16:48:18.403579"
    },
    "collapsed": false,
    "run_control": {
     "frozen": false,
     "read_only": false
    }
   },
   "outputs": [
    {
     "name": "stdout",
     "output_type": "stream",
     "text": [
      "Pseudo-terminal will not be allocated because stdin is not a terminal.\n",
      "/usr/bin/python2\n"
     ]
    }
   ],
   "source": [
    "remote which -a python2"
   ]
  },
  {
   "cell_type": "markdown",
   "metadata": {},
   "source": [
    "In this case, the python command was found in /bin. Another location could be /usr/bin or /opt/anaconda2/bin (if you have installed it)."
   ]
  },
  {
   "cell_type": "markdown",
   "metadata": {},
   "source": [
    "####  Install IPython for Python2\n",
    "Dependent on whether you have installed Anaconda2 or you’re using a pre-installed Python2 package, you may have to install pip and the IPython kernel. Run the following commands."
   ]
  },
  {
   "cell_type": "code",
   "execution_count": 45,
   "metadata": {
    "ExecuteTime": {
     "end_time": "2017-02-09T16:48:45.865203",
     "start_time": "2017-02-09T16:48:30.988401"
    },
    "collapsed": false,
    "run_control": {
     "frozen": false,
     "read_only": false
    }
   },
   "outputs": [
    {
     "name": "stdout",
     "output_type": "stream",
     "text": [
      "Pseudo-terminal will not be allocated because stdin is not a terminal.\n",
      "Loaded plugins: fastestmirror\n",
      "Determining fastest mirrors\n",
      " * epel: ftp.crc.dk\n",
      "Package python2-pip-8.1.2-5.el7.noarch already installed and latest version\n",
      "Nothing to do\n",
      "Pseudo-terminal will not be allocated because stdin is not a terminal.\n",
      "Requirement already satisfied (use --upgrade to upgrade): ipykernel in /usr/lib/python2.7/site-packages\n",
      "Requirement already satisfied (use --upgrade to upgrade): tornado>=4.0 in /usr/lib64/python2.7/site-packages (from ipykernel)\n",
      "Requirement already satisfied (use --upgrade to upgrade): jupyter-client in /usr/lib/python2.7/site-packages (from ipykernel)\n",
      "Requirement already satisfied (use --upgrade to upgrade): ipython>=4.0.0 in /usr/lib/python2.7/site-packages (from ipykernel)\n",
      "Requirement already satisfied (use --upgrade to upgrade): traitlets>=4.1.0 in /usr/lib/python2.7/site-packages (from ipykernel)\n",
      "Requirement already satisfied (use --upgrade to upgrade): backports.ssl_match_hostname in /usr/lib/python2.7/site-packages (from tornado>=4.0->ipykernel)\n",
      "Requirement already satisfied (use --upgrade to upgrade): singledispatch in /usr/lib/python2.7/site-packages (from tornado>=4.0->ipykernel)\n",
      "Requirement already satisfied (use --upgrade to upgrade): certifi in /usr/lib/python2.7/site-packages (from tornado>=4.0->ipykernel)\n",
      "Requirement already satisfied (use --upgrade to upgrade): backports_abc>=0.4 in /usr/lib/python2.7/site-packages (from tornado>=4.0->ipykernel)\n",
      "Requirement already satisfied (use --upgrade to upgrade): jupyter-core in /usr/lib/python2.7/site-packages (from jupyter-client->ipykernel)\n",
      "Requirement already satisfied (use --upgrade to upgrade): pyzmq>=13 in /usr/lib64/python2.7/site-packages (from jupyter-client->ipykernel)\n",
      "Requirement already satisfied (use --upgrade to upgrade): pygments in /usr/lib64/python2.7/site-packages (from ipython>=4.0.0->ipykernel)\n",
      "Requirement already satisfied (use --upgrade to upgrade): setuptools>=18.5 in /usr/lib/python2.7/site-packages (from ipython>=4.0.0->ipykernel)\n",
      "Requirement already satisfied (use --upgrade to upgrade): backports.shutil-get-terminal-size; python_version == \"2.7\" in /usr/lib/python2.7/site-packages (from ipython>=4.0.0->ipykernel)\n",
      "Requirement already satisfied (use --upgrade to upgrade): simplegeneric>0.8 in /usr/lib/python2.7/site-packages (from ipython>=4.0.0->ipykernel)\n",
      "Requirement already satisfied (use --upgrade to upgrade): pickleshare in /usr/lib/python2.7/site-packages (from ipython>=4.0.0->ipykernel)\n",
      "Requirement already satisfied (use --upgrade to upgrade): decorator in /usr/lib/python2.7/site-packages (from ipython>=4.0.0->ipykernel)\n",
      "Requirement already satisfied (use --upgrade to upgrade): prompt-toolkit<2.0.0,>=1.0.4 in /usr/lib/python2.7/site-packages (from ipython>=4.0.0->ipykernel)\n",
      "Requirement already satisfied (use --upgrade to upgrade): pexpect; sys_platform != \"win32\" in /usr/lib/python2.7/site-packages (from ipython>=4.0.0->ipykernel)\n",
      "Requirement already satisfied (use --upgrade to upgrade): pathlib2; python_version == \"2.7\" or python_version == \"3.3\" in /usr/lib/python2.7/site-packages (from ipython>=4.0.0->ipykernel)\n",
      "Requirement already satisfied (use --upgrade to upgrade): ipython-genutils in /usr/lib/python2.7/site-packages (from traitlets>=4.1.0->ipykernel)\n",
      "Requirement already satisfied (use --upgrade to upgrade): enum34; python_version == \"2.7\" in /usr/lib/python2.7/site-packages (from traitlets>=4.1.0->ipykernel)\n",
      "Requirement already satisfied (use --upgrade to upgrade): six in /usr/lib/python2.7/site-packages (from traitlets>=4.1.0->ipykernel)\n",
      "Requirement already satisfied (use --upgrade to upgrade): appdirs>=1.4.0 in /usr/lib/python2.7/site-packages (from setuptools>=18.5->ipython>=4.0.0->ipykernel)\n",
      "Requirement already satisfied (use --upgrade to upgrade): packaging>=16.8 in /usr/lib/python2.7/site-packages (from setuptools>=18.5->ipython>=4.0.0->ipykernel)\n",
      "Requirement already satisfied (use --upgrade to upgrade): wcwidth in /usr/lib/python2.7/site-packages (from prompt-toolkit<2.0.0,>=1.0.4->ipython>=4.0.0->ipykernel)\n",
      "Requirement already satisfied (use --upgrade to upgrade): ptyprocess>=0.5 in /usr/lib/python2.7/site-packages (from pexpect; sys_platform != \"win32\"->ipython>=4.0.0->ipykernel)\n",
      "Requirement already satisfied (use --upgrade to upgrade): scandir; python_version < \"3.5\" in /usr/lib64/python2.7/site-packages (from pathlib2; python_version == \"2.7\" or python_version == \"3.3\"->ipython>=4.0.0->ipykernel)\n",
      "Requirement already satisfied (use --upgrade to upgrade): pyparsing in /usr/lib/python2.7/site-packages (from packaging>=16.8->setuptools>=18.5->ipython>=4.0.0->ipykernel)\n",
      "You are using pip version 8.1.2, however version 9.0.1 is available.\n",
      "You should consider upgrading via the 'pip install --upgrade pip' command.\n"
     ]
    }
   ],
   "source": [
    "remotesudo yum install -y python-pip\n",
    "remotesudo pip install ipykernel"
   ]
  },
  {
   "cell_type": "markdown",
   "metadata": {},
   "source": [
    "You can ignore the warning messages if pip and the IPython kernel are already installed."
   ]
  },
  {
   "cell_type": "markdown",
   "metadata": {},
   "source": [
    "Run the following commands to add the PySpark kernel to the notebook configuration."
   ]
  },
  {
   "cell_type": "code",
   "execution_count": 30,
   "metadata": {
    "ExecuteTime": {
     "end_time": "2017-02-09T17:07:34.050968",
     "start_time": "2017-02-09T17:07:30.866477"
    },
    "collapsed": false,
    "run_control": {
     "frozen": false,
     "read_only": false
    }
   },
   "outputs": [
    {
     "name": "stdout",
     "output_type": "stream",
     "text": [
      "Writing this contents to /usr/share/jupyter/kernels/pyspark/kernel.json\n",
      "\n",
      "{\n",
      "    \"display_name>\": \"PySpark\",\n",
      "    \"language\": \"python\",\n",
      "    \"argv\": [ \"/usr/bin/python2\", \"-m\", \"ipykernel\", \"-f\", \"{connection_file}\" ],\n",
      "    \"env\": {\n",
      "        \"PATH\": \"/bin:/sbin:/usr/sbin:/usr/bin\",\n",
      "        \"SPARK_HOME\": \"/usr/iop/current/spark-client\",\n",
      "        \"PYSPARK_PYTHON\": \"/usr/bin/python2\",\n",
      "        \"PYTHONPATH\": \"/usr/iop/current/spark-client/python/:/usr/iop/current/spark-client/python/lib/py4j-0.9-src.zip\",\n",
      "        \"PYTHONSTARTUP\": \"/usr/iop/current/spark-client/python/pyspark/shell.py\",\n",
      "        \"PYSPARK_SUBMIT_ARGS\": \"--master yarn-client pyspark-shell\"\n",
      "    }\n",
      "}\n",
      "/usr/share/jupyter/kernels/pyspark/kernel.json now contains\n",
      "\n",
      "{\n",
      "    \"display_name>\": \"PySpark\",\n",
      "    \"language\": \"python\",\n",
      "    \"argv\": [ \"/usr/bin/python2\", \"-m\", \"ipykernel\", \"-f\", \"{connection_file}\" ],\n",
      "    \"env\": {\n",
      "        \"PATH\": \"/bin:/sbin:/usr/sbin:/usr/bin\",\n",
      "        \"SPARK_HOME\": \"/usr/iop/current/spark-client\",\n",
      "        \"PYSPARK_PYTHON\": \"/usr/bin/python2\",\n",
      "        \"PYTHONPATH\": \"/usr/iop/current/spark-client/python/:/usr/iop/current/spark-client/python/lib/py4j-0.9-src.zip\",\n",
      "        \"PYTHONSTARTUP\": \"/usr/iop/current/spark-client/python/pyspark/shell.py\",\n",
      "        \"PYSPARK_SUBMIT_ARGS\": \"--master yarn-client pyspark-shell\"\n",
      "    }\n",
      "}\n"
     ]
    }
   ],
   "source": [
    "PYSPARK_KERNEL_CONFIG=/usr/share/jupyter/kernels/pyspark/kernel.json\n",
    "\n",
    "remotesudo mkdir -p $(dirname $PYSPARK_KERNEL_CONFIG)\n",
    "\n",
    "remotesudo touch $PYSPARK_KERNEL_CONFIG\n",
    "\n",
    "echo \"Writing this contents to $PYSPARK_KERNEL_CONFIG\"\n",
    "\n",
    "python << EOJ | remotesudo tee $PYSPARK_KERNEL_CONFIG\n",
    "print(\"\"\"\n",
    "{\n",
    "    \"display_name>\": \"PySpark\",\n",
    "    \"language\": \"python\",\n",
    "    \"argv\": [ \"/usr/bin/python2\", \"-m\", \"ipykernel\", \"-f\", \"{connection_file}\" ],\n",
    "    \"env\": {\n",
    "        \"PATH\": \"/bin:/sbin:/usr/sbin:/usr/bin\",\n",
    "        \"SPARK_HOME\": \"/usr/iop/current/spark-client\",\n",
    "        \"PYSPARK_PYTHON\": \"/usr/bin/python2\",\n",
    "        \"PYTHONPATH\": \"/usr/iop/current/spark-client/python/:/usr/iop/current/spark-client/python/lib/py4j-0.9-src.zip\",\n",
    "        \"PYTHONSTARTUP\": \"/usr/iop/current/spark-client/python/pyspark/shell.py\",\n",
    "        \"PYSPARK_SUBMIT_ARGS\": \"--master yarn-client pyspark-shell\"\n",
    "    }\n",
    "}\"\"\")\n",
    "EOJ\n",
    "\n",
    "echo \"$PYSPARK_KERNEL_CONFIG now contains\"\n",
    "remote \"cat $PYSPARK_KERNEL_CONFIG\""
   ]
  },
  {
   "cell_type": "markdown",
   "metadata": {},
   "source": [
    "Take a close look at the various properties to ensure they match your environment.\n",
    "* \"argv\": \"/bin/python\" The full path of the python command as determined in the previous section\n",
    "* \"PATH\": \"/bin: …\" Ensure that the directory holding the python command is first in the path\n",
    "* \"PYSPARK_PYTHON\": \"/bin/python\" The full path of the python command as determined in the previous section"
   ]
  },
  {
   "cell_type": "markdown",
   "metadata": {},
   "source": [
    "**Note:**\tMake sure you don’t copy any special characters such as tabs or formatting into the JSON file, otherwise it will fail to be parsed.\n",
    "\n",
    "**Path:**\tThe PATH is explicitly set in the kernel.json file to ensure that the PySpark shell scripts are executed using Python2, instead of Python3. Failing to do so results in syntax errors in the notebook server."
   ]
  },
  {
   "cell_type": "markdown",
   "metadata": {},
   "source": [
    "Once finished, check that the kernel is now available."
   ]
  },
  {
   "cell_type": "code",
   "execution_count": 32,
   "metadata": {
    "ExecuteTime": {
     "end_time": "2017-02-09T17:07:59.945097",
     "start_time": "2017-02-09T17:07:57.082638"
    },
    "collapsed": false,
    "run_control": {
     "frozen": false,
     "read_only": false
    }
   },
   "outputs": [
    {
     "name": "stdout",
     "output_type": "stream",
     "text": [
      "jupyter: /usr/bin/jupyter /etc/jupyter /usr/share/jupyter /opt/anaconda3/bin/jupyter\n",
      "Available kernels:\n",
      "  python2               /usr/lib/python2.7/site-packages/ipykernel/resources\n",
      "  apache_toree_scala    /usr/local/share/jupyter/kernels/apache_toree_scala\n",
      "  pyspark               /usr/share/jupyter/kernels/pyspark\n",
      "  r                     /usr/share/jupyter/kernels/r\n"
     ]
    }
   ],
   "source": [
    "remote jupyter kernelspec list"
   ]
  },
  {
   "cell_type": "markdown",
   "metadata": {},
   "source": [
    "This should render the following output."
   ]
  },
  {
   "cell_type": "markdown",
   "metadata": {},
   "source": [
    "    Available kernels:\n",
    "      python3    /opt/anaconda3/lib/python3.5/site-packages/ipykernel/resources\n",
    "      pyspark    /usr/share/jupyter/kernels/pyspark"
   ]
  },
  {
   "cell_type": "markdown",
   "metadata": {},
   "source": [
    "#### Testing the PySpark kernel\n",
    "Once the PySpark kernel has been added, start the notebook server using user spark by entering the following commands."
   ]
  },
  {
   "cell_type": "code",
   "execution_count": null,
   "metadata": {
    "ExecuteTime": {
     "end_time": "2017-02-09T10:40:40.294537",
     "start_time": "2017-02-09T10:39:17.442189"
    },
    "collapsed": false,
    "run_control": {
     "frozen": false,
     "read_only": false
    }
   },
   "outputs": [],
   "source": [
    "start_notebook"
   ]
  },
  {
   "cell_type": "markdown",
   "metadata": {},
   "source": [
    "Test a basic expression such as “print(sc.version)”."
   ]
  },
  {
   "cell_type": "markdown",
   "metadata": {},
   "source": [
    "![](jupyterSpark.png)"
   ]
  },
  {
   "cell_type": "markdown",
   "metadata": {},
   "source": [
    "Another test you can do is to write a file into Hadoop and subsequently read it."
   ]
  },
  {
   "cell_type": "markdown",
   "metadata": {},
   "source": [
    "    l=range(1000000)\n",
    "    rdd=sc.parallelize(l).map(lambda x:x+1)\n",
    "    rdd.saveAsTextFile('/tmp/output.txt')\n",
    "    readFile=sc.textFile('/tmp/output.txt')\n",
    "    readFile.count()"
   ]
  },
  {
   "cell_type": "markdown",
   "metadata": {},
   "source": [
    "This should return a value of 1000000.\n",
    "\n",
    "Once finished, save or discard the notebook and close the notebook using File -> Close and Halt. This will also stop the PySpark session.\n",
    "\n",
    "In the terminal that is running the notebook server, you will see a lot of messages when Spark is started."
   ]
  },
  {
   "cell_type": "markdown",
   "metadata": {},
   "source": [
    "#### Errors in notebook server\n",
    "##### Endless messages in notebook server\n",
    "If you start PySpark or any other notebook that is dependent on Spark and you see endless messages in the notebook server:\n",
    "\n",
    "    16/10/15 02:27:38 INFO Client: Application report for application_1476515684661_0002 (state: ACCEPTED)\n",
    "    16/10/15 02:27:39 INFO Client: Application report for application_1476515684661_0002 (state: ACCEPTED)\n",
    "    16/10/15 02:27:40 INFO Client: Application report for application_1476515684661_0002 (state: ACCEPTED)\n",
    "This typically means that YARN was not started or not properly running. Check your Ambari console to ensure YARN and its node managers are up"
   ]
  },
  {
   "cell_type": "markdown",
   "metadata": {},
   "source": [
    "##### Errors in the notebook server – Cannot connect to port 8050\n",
    "If errors such as the following appear in the terminal where you have started the Jupyter notebook server, Spark or Hive is probably not started.\n",
    "\n",
    "    16/10/14 04:43:24 INFO Client: Retrying connect to server: biginsights-sn.demos.demoibm.com/10.137.41.71:8050. Already tried 22 time(s); retry policy is RetryUpToMaximumCountWithFixedSleep(maxRetries=50, sleepTime=1000 MILLISECONDS) \n",
    "In that case you should check the Ambari console to see that the services are running. Also you can test that PySpark is working properly by running the following command as the Spark user and check that you can enter PySpark commands."
   ]
  },
  {
   "cell_type": "code",
   "execution_count": null,
   "metadata": {
    "collapsed": true,
    "run_control": {
     "frozen": false,
     "read_only": false
    }
   },
   "outputs": [],
   "source": [
    "pyspark"
   ]
  },
  {
   "cell_type": "markdown",
   "metadata": {},
   "source": [
    "##### Python errors in Jupyter console – missing parentheses\n",
    "If PySpark (or one of the other Spark-related kernels) is started with Python3, you will see errors in the notebook server, even though the notebook itself may seem to work properly.\n",
    "\n",
    "    16/10/04 12:17:13 WARN ScriptBasedMapping: Exception running /etc/hadoop/conf/topology_script.py 172.16.7.130 \n",
    "    ExitCodeException exitCode=1:   File \"/etc/hadoop/conf/topology_script.py\", line 63\n",
    "        print rack\n",
    "                 ^\n",
    "    SyntaxError: Missing parentheses in call to 'print'\n",
    "In the example PySpark kernel.json, we are explicitly setting the PATH environment variable to ensure /bin/python is at the beginning of the path. Make sure that /bin/python starts Python2.\n",
    "\n",
    "    [spark@biginsights-sn ~]$ /bin/python\n",
    "    Python 2.7.5 (default, Oct 11 2015, 17:47:16) \n",
    "    [GCC 4.8.3 20140911 (Red Hat 4.8.3-9)] on linux2\n",
    "    Type \"help\", \"copyright\", \"credits\" or \"license\" for more information.\n",
    "    >>>"
   ]
  },
  {
   "cell_type": "markdown",
   "metadata": {
    "collapsed": true
   },
   "source": [
    "### Add the R kernel (compile)\n",
    "As the R kernel is not part of the CRAN repos it should be compiled from sources. Start by getting the following additional packages (if they are not already part of your OS installation). Run the following commands"
   ]
  },
  {
   "cell_type": "code",
   "execution_count": null,
   "metadata": {
    "ExecuteTime": {
     "end_time": "2017-02-09T10:41:01.392880",
     "start_time": "2017-02-09T10:41:00.335970"
    },
    "collapsed": false,
    "run_control": {
     "frozen": false,
     "read_only": false
    }
   },
   "outputs": [],
   "source": [
    "remotesudo yum install -y R"
   ]
  },
  {
   "cell_type": "code",
   "execution_count": null,
   "metadata": {
    "ExecuteTime": {
     "end_time": "2017-02-09T10:41:05.191702",
     "start_time": "2017-02-09T10:41:04.233704"
    },
    "collapsed": false,
    "run_control": {
     "frozen": false,
     "read_only": false
    }
   },
   "outputs": [],
   "source": [
    "remotesudo yum install -y openssl-devel openssl libcurl-devel libssh2-devel"
   ]
  },
  {
   "cell_type": "markdown",
   "metadata": {},
   "source": [
    "Create links to libssl.so.1.0.0 and libcrypto.so.1.0.0 under /usr/lib64 to avoid errors like \"libssl.so.10: cannot open shared object file\" during compilation."
   ]
  },
  {
   "cell_type": "code",
   "execution_count": null,
   "metadata": {
    "ExecuteTime": {
     "end_time": "2017-02-09T10:41:16.750050",
     "start_time": "2017-02-09T10:41:15.003647"
    },
    "collapsed": false,
    "run_control": {
     "frozen": false,
     "read_only": false
    }
   },
   "outputs": [],
   "source": [
    "remotesudo ln -s /opt/anaconda3/lib/libssl.so.1.0.0 /usr/lib64/libssl.so.1.0.0\n",
    "remotesudo ln -s /opt/anaconda3/lib/libcrypto.so.1.0.0 /usr/lib64/libcrypto.so.1.0.0"
   ]
  },
  {
   "cell_type": "markdown",
   "metadata": {},
   "source": [
    "Start R using root and install the git2r, devtools, repr, IRdisplay, crayon and pbdZMQ packages."
   ]
  },
  {
   "cell_type": "code",
   "execution_count": null,
   "metadata": {
    "ExecuteTime": {
     "end_time": "2017-02-09T10:42:52.565793",
     "start_time": "2017-02-09T10:41:55.225345"
    },
    "collapsed": false,
    "run_control": {
     "frozen": false,
     "read_only": false
    }
   },
   "outputs": [],
   "source": [
    "remote sudo -i R --vanilla << EOR\n",
    "install.packages(c('git2r'),repos=\"http://cran.rstudio.com/\")\n",
    "EOR"
   ]
  },
  {
   "cell_type": "code",
   "execution_count": null,
   "metadata": {
    "ExecuteTime": {
     "end_time": "2017-02-09T10:47:22.006313",
     "start_time": "2017-02-09T10:47:10.287013"
    },
    "collapsed": false,
    "run_control": {
     "frozen": false,
     "read_only": false
    }
   },
   "outputs": [],
   "source": [
    "remote sudo -i R --vanilla << EOR\n",
    "install.packages(c('devtools','repr','IRdisplay','crayon'),repos=\"http://cran.rstudio.com/\")\n",
    "EOR"
   ]
  },
  {
   "cell_type": "code",
   "execution_count": null,
   "metadata": {
    "collapsed": true,
    "run_control": {
     "frozen": false,
     "read_only": false
    }
   },
   "outputs": [],
   "source": [
    "remote sudo -i R --vanilla << EOR\n",
    "install.packages(c('pbdZMQ'),repos=\"http://cran.rstudio.com/\")\n",
    "EOR"
   ]
  },
  {
   "cell_type": "markdown",
   "metadata": {},
   "source": [
    "Once complete you can use the devtools package to get and compile IRkernel."
   ]
  },
  {
   "cell_type": "code",
   "execution_count": null,
   "metadata": {
    "ExecuteTime": {
     "end_time": "2017-02-09T10:48:53.791781",
     "start_time": "2017-02-09T10:47:31.369407"
    },
    "collapsed": false,
    "run_control": {
     "frozen": false,
     "read_only": false
    }
   },
   "outputs": [],
   "source": [
    "remote sudo -i R --vanilla << EOR\n",
    "devtools::install_github('IRkernel/IRkernel')\n",
    "EOR"
   ]
  },
  {
   "cell_type": "markdown",
   "metadata": {},
   "source": [
    "If you are planning to use SparkR now it's the time to get and install the SparkR package (make sure to use the correct package version for your version of Spark)."
   ]
  },
  {
   "cell_type": "code",
   "execution_count": null,
   "metadata": {
    "ExecuteTime": {
     "end_time": "2017-02-09T10:49:25.208124",
     "start_time": "2017-02-09T10:49:10.211558"
    },
    "collapsed": false,
    "run_control": {
     "frozen": false,
     "read_only": false
    }
   },
   "outputs": [],
   "source": [
    "remote sudo -i R --vanilla << EOR\n",
    "devtools::install_github('apache/spark@v1.6.1', subdir='R/pkg')\n",
    "EOR"
   ]
  },
  {
   "cell_type": "markdown",
   "metadata": {},
   "source": [
    "Now, create the kernel specification."
   ]
  },
  {
   "cell_type": "code",
   "execution_count": null,
   "metadata": {
    "ExecuteTime": {
     "end_time": "2017-02-09T10:54:58.742484",
     "start_time": "2017-02-09T10:54:56.237582"
    },
    "collapsed": false,
    "run_control": {
     "frozen": false,
     "read_only": false
    }
   },
   "outputs": [],
   "source": [
    "R_KERNEL_CONFIG=/usr/share/jupyter/kernels/r/kernel.json\n",
    "remote sudo mkdir -p $(dirname $R_KERNEL_CONFIG)\n",
    "echo \"Writing content to $R_KERNEL_CONFIG\"\n",
    "python << EOJ | remotesudo tee  $R_KERNEL_CONFIG\n",
    "print(\"\"\"\n",
    "{\n",
    " \"argv\": [\"R\", \"--slave\", \"-e\", \"IRkernel::main()\", \"--args\", \"{connection_file}\"],\n",
    " \"display_name\":\"R and SparkR\",\n",
    " \"language\":\"R\",\n",
    " \"env\": {\n",
    "    \"PATH\": \"/bin:/sbin:/usr/sbin:/usr/bin:/opt/anaconda3/bin\"\n",
    " }\n",
    "}\"\"\")\n",
    "EOJ\n",
    "echo \"The content of $R_KERNEL_CONFIG is now\"\n",
    "remote cat $R_KERNEL_CONFIG"
   ]
  },
  {
   "cell_type": "code",
   "execution_count": null,
   "metadata": {
    "ExecuteTime": {
     "end_time": "2017-02-09T10:55:06.233515",
     "start_time": "2017-02-09T10:55:03.455342"
    },
    "collapsed": false,
    "run_control": {
     "frozen": false,
     "read_only": false
    }
   },
   "outputs": [],
   "source": [
    "remote jupyter kernelspec list"
   ]
  },
  {
   "cell_type": "markdown",
   "metadata": {},
   "source": [
    "The result should look something like this:\n",
    "\n",
    "    Available kernels:\n",
    "      python3    /opt/anaconda3/lib/python3.5/site-packages/ipykernel/resources\n",
    "      pyspark    /usr/share/jupyter/kernels/pyspark\n",
    "      r          /usr/share/jupyter/kernels/r"
   ]
  },
  {
   "cell_type": "markdown",
   "metadata": {},
   "source": [
    "Start (restart) your notebook server and verify that the new kernels are available."
   ]
  },
  {
   "cell_type": "code",
   "execution_count": null,
   "metadata": {
    "ExecuteTime": {
     "end_time": "2017-02-09T10:56:17.207217",
     "start_time": "2017-02-09T10:55:14.278036"
    },
    "collapsed": false,
    "run_control": {
     "frozen": false,
     "read_only": false
    }
   },
   "outputs": [],
   "source": [
    "start_notebook"
   ]
  },
  {
   "cell_type": "markdown",
   "metadata": {},
   "source": [
    "#### Testing R\n",
    "First test that R is working by opening a “R and SparkR” notebook and entering the following statements.\n",
    "\n",
    "    a <- c('a','b','c')\n",
    "    a\n",
    "The result should be:\n",
    "\n",
    "![](jupyterR.png)"
   ]
  },
  {
   "cell_type": "markdown",
   "metadata": {},
   "source": [
    "#### Test SparkR\n",
    "To test SparkR, we will put some test data into your users HFDS home directory (/user/abr). We will parse CSV data and therefore must download and install a parser to be used from the notebook. Run the following command."
   ]
  },
  {
   "cell_type": "code",
   "execution_count": 33,
   "metadata": {
    "ExecuteTime": {
     "end_time": "2017-02-09T17:08:56.179957",
     "start_time": "2017-02-09T17:08:54.627625"
    },
    "collapsed": false,
    "run_control": {
     "frozen": false,
     "read_only": false
    }
   },
   "outputs": [
    {
     "name": "stdout",
     "output_type": "stream",
     "text": [
      "--2017-02-09 17:08:55--  http://central.maven.org/maven2/com/databricks/spark-csv_2.11/1.5.0/spark-csv_2.11-1.5.0.jar\n",
      "Resolving central.maven.org (central.maven.org)... 151.101.84.209\n",
      "Connecting to central.maven.org (central.maven.org)|151.101.84.209|:80... connected.\n",
      "HTTP request sent, awaiting response... 200 OK\n",
      "Length: 167269 (163K) [application/java-archive]\n",
      "Saving to: ‘/usr/iop/current/spark-client/lib/spark-csv_2.11-1.5.0.jar’\n",
      "\n",
      "     0K .......... .......... .......... .......... .......... 30% 1,51M 0s\n",
      "    50K .......... .......... .......... .......... .......... 61% 2,87M 0s\n",
      "   100K .......... .......... .......... .......... .......... 91% 3,00M 0s\n",
      "   150K .......... ...                                        100% 3,21M=0,07s\n",
      "\n",
      "2017-02-09 17:08:56 (2,29 MB/s) - ‘/usr/iop/current/spark-client/lib/spark-csv_2.11-1.5.0.jar’ saved [167269/167269]\n",
      "\n"
     ]
    }
   ],
   "source": [
    "remote sudo wget http://central.maven.org/maven2/com/databricks/spark-csv_2.11/1.5.0/spark-csv_2.11-1.5.0.jar -O /usr/iop/current/spark-client/lib/spark-csv_2.11-1.5.0.jar"
   ]
  },
  {
   "cell_type": "markdown",
   "metadata": {},
   "source": [
    "Get some test data and upload it to the HDFS directory. Run the following commands"
   ]
  },
  {
   "cell_type": "code",
   "execution_count": 36,
   "metadata": {
    "ExecuteTime": {
     "end_time": "2017-02-09T17:10:55.638155",
     "start_time": "2017-02-09T17:10:49.085287"
    },
    "collapsed": false,
    "run_control": {
     "frozen": false,
     "read_only": false
    }
   },
   "outputs": [
    {
     "name": "stdout",
     "output_type": "stream",
     "text": [
      "--2017-02-09 17:10:50--  https://github.com/databricks/spark-csv/raw/master/src/test/resources/cars.csv\n",
      "Resolving github.com (github.com)... 192.30.253.112, 192.30.253.113\n",
      "Connecting to github.com (github.com)|192.30.253.112|:443... connected.\n",
      "WARNING: cannot verify github.com's certificate, issued by ‘/C=US/O=DigiCert Inc/OU=www.digicert.com/CN=DigiCert SHA2 Extended Validation Server CA’:\n",
      "  Unable to locally verify the issuer's authority.\n",
      "HTTP request sent, awaiting response... 302 Found\n",
      "Location: https://raw.githubusercontent.com/databricks/spark-csv/master/src/test/resources/cars.csv [following]\n",
      "--2017-02-09 17:10:50--  https://raw.githubusercontent.com/databricks/spark-csv/master/src/test/resources/cars.csv\n",
      "Resolving raw.githubusercontent.com (raw.githubusercontent.com)... 151.101.84.133\n",
      "Connecting to raw.githubusercontent.com (raw.githubusercontent.com)|151.101.84.133|:443... connected.\n",
      "WARNING: cannot verify raw.githubusercontent.com's certificate, issued by ‘/C=US/O=DigiCert Inc/OU=www.digicert.com/CN=DigiCert SHA2 High Assurance Server CA’:\n",
      "  Unable to locally verify the issuer's authority.\n",
      "HTTP request sent, awaiting response... 200 OK\n",
      "Length: 134 [text/plain]\n",
      "Saving to: ‘cars.csv’\n",
      "\n",
      "     0K                                                       100% 24,9M=0s\n",
      "\n",
      "2017-02-09 17:10:51 (24,9 MB/s) - ‘cars.csv’ saved [134/134]\n",
      "\n",
      "put: `cars.csv': File exists\n"
     ]
    },
    {
     "ename": "",
     "evalue": "1",
     "output_type": "error",
     "traceback": []
    }
   ],
   "source": [
    "remote wget --no-check-certificate https://github.com/databricks/spark-csv/raw/master/src/test/resources/cars.csv\n",
    "remote hdfs dfs -put cars.csv ."
   ]
  },
  {
   "cell_type": "markdown",
   "metadata": {},
   "source": [
    "Next, you can test R and SparkR by parsing the CSV file and loading the data in an R Data Frame. If the CSV data source is not already part of your Spark installation, you'll have to download it and add it to your Spark libraries.\n",
    "Now, run the Jupyter notebook server as yourself:"
   ]
  },
  {
   "cell_type": "code",
   "execution_count": null,
   "metadata": {
    "collapsed": false,
    "run_control": {
     "frozen": false,
     "read_only": false
    }
   },
   "outputs": [],
   "source": [
    "start_notebook"
   ]
  },
  {
   "cell_type": "markdown",
   "metadata": {},
   "source": [
    "Create a new notebook using the “R and SparkR” kernel. Put the following code inside (mind the correct spark-csv version) and run it.\n",
    "\n",
    "    Sys.setenv(SPARK_HOME='/usr/iop/current/spark-client')\n",
    "    .libPaths(c(file.path(Sys.getenv('SPARK_HOME'), 'R', 'lib'), .libPaths()))\n",
    "    library(SparkR)\n",
    "    sc <- sparkR.init(master='yarn-client', sparkPackages=\"com.databricks:spark-csv_2.11:1.5.0\")\n",
    "    sqlContext <- sparkRSQL.init(sc)\n",
    "    df <- read.df(sqlContext, \"cars.csv\", source = \"com.databricks.spark.csv\", inferSchema = \"true\", header=\"true\")\n",
    "    head(df) \n",
    "    \n",
    "The result should be the following.\n",
    "![](jupyterSparkR.png)"
   ]
  },
  {
   "cell_type": "markdown",
   "metadata": {},
   "source": [
    "### Add the Spark-Scala kernel (through Apache Toree)\n",
    "The steps in this section are required to be able to run Spark Scala scripts from the Jupyter notebook. Run the following commands."
   ]
  },
  {
   "cell_type": "code",
   "execution_count": 37,
   "metadata": {
    "ExecuteTime": {
     "end_time": "2017-02-09T17:11:20.784300",
     "start_time": "2017-02-09T17:11:10.932305"
    },
    "collapsed": false,
    "run_control": {
     "frozen": false,
     "read_only": false
    }
   },
   "outputs": [
    {
     "name": "stdout",
     "output_type": "stream",
     "text": [
      "Collecting toree\n",
      "  Using cached toree-0.1.0.dev8.tar.gz\n",
      "Requirement already satisfied (use --upgrade to upgrade): jupyter_core<5.0,>=4.0 in /usr/lib/python2.7/site-packages (from toree)\n",
      "Requirement already satisfied (use --upgrade to upgrade): jupyter_client<5.0,>=4.0 in /usr/lib/python2.7/site-packages (from toree)\n",
      "Requirement already satisfied (use --upgrade to upgrade): traitlets<5.0,>=4.0 in /usr/lib/python2.7/site-packages (from toree)\n",
      "Requirement already satisfied (use --upgrade to upgrade): pyzmq>=13 in /usr/lib64/python2.7/site-packages (from jupyter_client<5.0,>=4.0->toree)\n",
      "Requirement already satisfied (use --upgrade to upgrade): ipython-genutils in /usr/lib/python2.7/site-packages (from traitlets<5.0,>=4.0->toree)\n",
      "Requirement already satisfied (use --upgrade to upgrade): decorator in /usr/lib/python2.7/site-packages (from traitlets<5.0,>=4.0->toree)\n",
      "Requirement already satisfied (use --upgrade to upgrade): enum34; python_version == \"2.7\" in /usr/lib/python2.7/site-packages (from traitlets<5.0,>=4.0->toree)\n",
      "Requirement already satisfied (use --upgrade to upgrade): six in /usr/lib/python2.7/site-packages (from traitlets<5.0,>=4.0->toree)\n",
      "Installing collected packages: toree\n",
      "  Running setup.py install for toree: started\n",
      "    Running setup.py install for toree: finished with status 'done'\n",
      "Successfully installed toree-0.1.0.dev8\n",
      "You are using pip version 8.1.2, however version 9.0.1 is available.\n",
      "You should consider upgrading via the 'pip install --upgrade pip' command.\n",
      "[ToreeInstall] Installing Apache Toree version 0.1.0.dev8\n",
      "[ToreeInstall] \n",
      "Apache Toree is an effort undergoing incubation at the Apache Software\n",
      "Foundation (ASF), sponsored by the Apache Incubator PMC.\n",
      "\n",
      "Incubation is required of all newly accepted projects until a further review\n",
      "indicates that the infrastructure, communications, and decision making process\n",
      "have stabilized in a manner consistent with other successful ASF projects.\n",
      "\n",
      "While incubation status is not necessarily a reflection of the completeness\n",
      "or stability of the code, it does indicate that the project has yet to be\n",
      "fully endorsed by the ASF.\n",
      "\n",
      "Additionally, this release is not fully compliant with Apache release policy\n",
      "and includes a runtime dependency that is licensed as LGPL v3 (plus a static\n",
      "linking exception). This package is currently under an effort to re-license\n",
      "(https://github.com/zeromq/jeromq/issues/327).\n",
      "[ToreeInstall] Creating kernel Scala\n",
      "[ToreeInstall] Removing existing kernelspec in /usr/local/share/jupyter/kernels/apache_toree_scala\n",
      "[ToreeInstall] Installed kernelspec apache_toree_scala in /usr/local/share/jupyter/kernels/apache_toree_scala\n"
     ]
    }
   ],
   "source": [
    "remotesudo pip install toree\n",
    "remotesudo jupyter toree install --spark_home=/usr/iop/4.2.0.0/spark/"
   ]
  },
  {
   "cell_type": "markdown",
   "metadata": {},
   "source": [
    "Configure the Scala Spark kernel to use yarn, by the SPARK_OPTS parameter"
   ]
  },
  {
   "cell_type": "code",
   "execution_count": 38,
   "metadata": {
    "ExecuteTime": {
     "end_time": "2017-02-09T17:12:03.463735",
     "start_time": "2017-02-09T17:12:00.797852"
    },
    "collapsed": false,
    "run_control": {
     "frozen": false,
     "read_only": false
    }
   },
   "outputs": [
    {
     "name": "stdout",
     "output_type": "stream",
     "text": [
      "\n",
      "{\n",
      "  \"argv\": [\n",
      "    \"/usr/local/share/jupyter/kernels/apache_toree_scala/bin/run.sh\",\n",
      "    \"--profile\",\n",
      "    \"{connection_file}\"\n",
      "  ],\n",
      "  \"display_name\": \"Scala and Spark\",\n",
      "  \"env\": {\n",
      "    \"DEFAULT_INTERPRETER\": \"Scala\",\n",
      "    \"PYTHON_EXEC\": \"/usr/bin/python2\",\n",
      "    \"SPARK_OPTS\": \"--master yarn-client\",\n",
      "    \"SPARK_HOME\": \"/usr/iop/4.2.0.0/spark/\",\n",
      "    \"TOREE_OPTS\": \"\",\n",
      "    \"PYTHONPATH\": \"/usr/iop/4.2.0.0/spark/python:/usr/iop/4.2.0.0/spark/python/lib/py4j-0.9-src.zip\"\n",
      "  },\n",
      "  \"language\": \"scala\"\n",
      "}\n"
     ]
    }
   ],
   "source": [
    "TOREE_KERNEL_CONFIG=/usr/local/share/jupyter/kernels/apache_toree_scala/kernel.json\n",
    "remote sudo mkdir -p $(dirname $TOREE_KERNEL_CONFIG)\n",
    "python << EOJ | remotesudo tee  $TOREE_KERNEL_CONFIG\n",
    "print(\"\"\"\n",
    "{\n",
    "  \"argv\": [\n",
    "    \"/usr/local/share/jupyter/kernels/apache_toree_scala/bin/run.sh\",\n",
    "    \"--profile\",\n",
    "    \"{connection_file}\"\n",
    "  ],\n",
    "  \"display_name\": \"Scala and Spark\",\n",
    "  \"env\": {\n",
    "    \"DEFAULT_INTERPRETER\": \"Scala\",\n",
    "    \"PYTHON_EXEC\": \"/usr/bin/python2\",\n",
    "    \"SPARK_OPTS\": \"--master yarn-client\",\n",
    "    \"SPARK_HOME\": \"/usr/iop/4.2.0.0/spark/\",\n",
    "    \"TOREE_OPTS\": \"\",\n",
    "    \"PYTHONPATH\": \"/usr/iop/4.2.0.0/spark/python:/usr/iop/4.2.0.0/spark/python/lib/py4j-0.9-src.zip\"\n",
    "  },\n",
    "  \"language\": \"scala\"\n",
    "}\"\"\")\n",
    "EOJ"
   ]
  },
  {
   "cell_type": "markdown",
   "metadata": {},
   "source": [
    "#### Test Spark-Scala\n",
    "Now, run the Jupyter notebook server:"
   ]
  },
  {
   "cell_type": "code",
   "execution_count": null,
   "metadata": {
    "ExecuteTime": {
     "start_time": "2017-02-09T10:29:47.311Z"
    },
    "collapsed": false,
    "run_control": {
     "frozen": false,
     "read_only": false
    }
   },
   "outputs": [],
   "source": [
    "start_notebook"
   ]
  },
  {
   "cell_type": "markdown",
   "metadata": {},
   "source": [
    "Create a new Apache Toree - Scala notebook and enter the following statements:\n",
    "\n",
    "    val NUM_SAMPLES=1000000\n",
    "    val count = sc.parallelize(1 to NUM_SAMPLES).map{i =>\n",
    "      val x = Math.random()\n",
    "      val y = Math.random()\n",
    "      if (x*x + y*y < 1) 1 else 0\n",
    "    }.reduce(_ + _)\n",
    "    println(\"Pi is roughly \" + 4.0 * count / NUM_SAMPLES)\n",
    "You should expect the following result.\n",
    "![](jupyterScala.png)"
   ]
  },
  {
   "cell_type": "markdown",
   "metadata": {
    "collapsed": true
   },
   "source": [
    "## Installing JupyterHub\n",
    "When the Jupyter notebook is up and running and basic tests have been performed, it is now time to implement the multi-tenant access to Jupyter, through JupyterHub."
   ]
  },
  {
   "cell_type": "markdown",
   "metadata": {},
   "source": [
    "### Install NodeJS and its package manager\n",
    "JupyterHub is distributed as a NodeJS web application, so first NodeJS and its package manager must be installed. Execute the following commands"
   ]
  },
  {
   "cell_type": "code",
   "execution_count": 39,
   "metadata": {
    "ExecuteTime": {
     "end_time": "2017-02-09T17:12:24.558115",
     "start_time": "2017-02-09T17:12:17.279577"
    },
    "collapsed": false,
    "run_control": {
     "frozen": false,
     "read_only": false
    }
   },
   "outputs": [
    {
     "name": "stdout",
     "output_type": "stream",
     "text": [
      "Loaded plugins: fastestmirror\n",
      "Loading mirror speeds from cached hostfile\n",
      " * epel: ftp.crc.dk\n",
      "Package 1:npm-3.10.10-1.6.9.4.2.el7.x86_64 already installed and latest version\n",
      "Package 1:nodejs-6.9.4-2.el7.x86_64 already installed and latest version\n",
      "Nothing to do\n",
      "/usr/bin/configurable-http-proxy -> /usr/lib/node_modules/configurable-http-proxy/bin/configurable-http-proxy\n",
      "/usr/lib\n",
      "└── configurable-http-proxy@1.3.1 \n",
      "\n"
     ]
    }
   ],
   "source": [
    "remotesudo yum install -y npm nodejs\n",
    "remotesudo npm install -g configurable-http-proxy"
   ]
  },
  {
   "cell_type": "markdown",
   "metadata": {},
   "source": [
    "### Install JupyterHub\n",
    "Install JupyterHub using pip (part of the Anaconda for Python3 installation). Run the following commands"
   ]
  },
  {
   "cell_type": "code",
   "execution_count": 41,
   "metadata": {
    "ExecuteTime": {
     "end_time": "2017-02-09T17:12:45.244960",
     "start_time": "2017-02-09T17:12:38.134209"
    },
    "collapsed": false,
    "run_control": {
     "frozen": false,
     "read_only": false
    }
   },
   "outputs": [
    {
     "name": "stdout",
     "output_type": "stream",
     "text": [
      "Collecting jupyterhub\n",
      "  Using cached jupyterhub-0.7.2-py3-none-any.whl\n",
      "Requirement already satisfied (use --upgrade to upgrade): traitlets>=4.1 in /opt/anaconda3/lib/python3.5/site-packages (from jupyterhub)\n",
      "Collecting alembic (from jupyterhub)\n",
      "Requirement already satisfied (use --upgrade to upgrade): requests in /opt/anaconda3/lib/python3.5/site-packages (from jupyterhub)\n",
      "Requirement already satisfied (use --upgrade to upgrade): sqlalchemy>=1.0 in /opt/anaconda3/lib/python3.5/site-packages (from jupyterhub)\n",
      "Requirement already satisfied (use --upgrade to upgrade): tornado>=4.1 in /opt/anaconda3/lib/python3.5/site-packages (from jupyterhub)\n",
      "Requirement already satisfied (use --upgrade to upgrade): jinja2 in /opt/anaconda3/lib/python3.5/site-packages (from jupyterhub)\n",
      "Collecting pamela (from jupyterhub)\n",
      "  Using cached pamela-0.3.0-py2.py3-none-any.whl\n",
      "Collecting Mako (from alembic->jupyterhub)\n",
      "Collecting python-editor>=0.3 (from alembic->jupyterhub)\n",
      "Requirement already satisfied (use --upgrade to upgrade): MarkupSafe in /opt/anaconda3/lib/python3.5/site-packages (from jinja2->jupyterhub)\n",
      "Installing collected packages: Mako, python-editor, alembic, pamela, jupyterhub\n",
      "Successfully installed Mako-1.0.6 alembic-0.8.10 jupyterhub-0.7.2 pamela-0.3.0 python-editor-1.0.3\n",
      "You are using pip version 8.1.2, however version 9.0.1 is available.\n",
      "You should consider upgrading via the 'pip install --upgrade pip' command.\n"
     ]
    }
   ],
   "source": [
    "remotesudo $conda pip install jupyterhub"
   ]
  },
  {
   "cell_type": "markdown",
   "metadata": {},
   "source": [
    "### Configure JupyterHub\n",
    "Once installed, create an initial configuration in the /etc/jupyter directory."
   ]
  },
  {
   "cell_type": "code",
   "execution_count": 42,
   "metadata": {
    "ExecuteTime": {
     "end_time": "2017-02-09T17:13:04.739754",
     "start_time": "2017-02-09T17:12:59.101843"
    },
    "collapsed": false,
    "run_control": {
     "frozen": false,
     "read_only": false
    }
   },
   "outputs": [
    {
     "name": "stdout",
     "output_type": "stream",
     "text": [
      "Writing default config to: /etc/jupyterhub/jupyterhub_config.py\n"
     ]
    }
   ],
   "source": [
    "remotesudo mkdir -p $(dirname /etc/jupyterhub/jupyterhub_config.py)\n",
    "remotesudo $conda jupyterhub -y True --generate-config --config=/etc/jupyterhub/jupyterhub_config.py"
   ]
  },
  {
   "cell_type": "markdown",
   "metadata": {},
   "source": [
    "### Test JupyterHub\n",
    "To check that JupyterHub works, we will first run it as user **root** without SSL."
   ]
  },
  {
   "cell_type": "code",
   "execution_count": 6,
   "metadata": {
    "ExecuteTime": {
     "end_time": "2017-02-09T11:35:16.743666",
     "start_time": "2017-02-09T11:34:44.839194"
    },
    "collapsed": false,
    "run_control": {
     "frozen": false,
     "read_only": false
    }
   },
   "outputs": [
    {
     "name": "stdout",
     "output_type": "stream",
     "text": [
      "\u001b[32m[I 2017-02-09 11:34:46.699 JupyterHub app:745]\u001b(B\u001b[m Writing cookie_secret to /tmp/jupyterhub_cookie_secret\n",
      "\u001b[33m[W 2017-02-09 11:34:46.923 JupyterHub app:365]\u001b(B\u001b[m \n",
      "    Generating CONFIGPROXY_AUTH_TOKEN. Restarting the Hub will require restarting the proxy.\n",
      "    Set CONFIGPROXY_AUTH_TOKEN env or JupyterHub.proxy_auth_token config to avoid this message.\n",
      "    \n",
      "\u001b[33m[W 2017-02-09 11:34:46.936 JupyterHub app:864]\u001b(B\u001b[m No admin users, admin interface will be unavailable.\n",
      "\u001b[33m[W 2017-02-09 11:34:46.937 JupyterHub app:865]\u001b(B\u001b[m Add any administrative users to `c.Authenticator.admin_users` in config.\n",
      "\u001b[32m[I 2017-02-09 11:34:46.937 JupyterHub app:892]\u001b(B\u001b[m Not using whitelist. Any authenticated user will be allowed.\n",
      "\u001b[32m[I 2017-02-09 11:34:46.956 JupyterHub app:1453]\u001b(B\u001b[m Hub API listening on http://127.0.0.1:8081/hub/\n",
      "\u001b[33m[W 2017-02-09 11:34:46.963 JupyterHub app:1174]\u001b(B\u001b[m Running JupyterHub without SSL.  I hope there is SSL termination happening somewhere else...\n",
      "\u001b[32m[I 2017-02-09 11:34:46.963 JupyterHub app:1176]\u001b(B\u001b[m Starting proxy @ http://kact-srv-001.kact.sblokalnet:8000/\n",
      "11:34:47.162 - \u001b[32minfo\u001b[39m: [ConfigProxy] Proxying http://kact-srv-001.kact.sblokalnet:8000 to http://127.0.0.1:8081\n",
      "11:34:47.167 - \u001b[32minfo\u001b[39m: [ConfigProxy] Proxy API at http://127.0.0.1:8001/api/routes\n",
      "\u001b[32m[I 2017-02-09 11:34:47.274 JupyterHub app:1485]\u001b(B\u001b[m JupyterHub is now running at http://kact-srv-001.kact.sblokalnet:8000/\n",
      "\u001b[32m[I 2017-02-09 11:34:51.963 JupyterHub log:100]\u001b(B\u001b[m 302 GET / (@172.18.99.220) 5.00ms\n",
      "\u001b[32m[I 2017-02-09 11:34:51.979 JupyterHub log:100]\u001b(B\u001b[m 302 GET /hub (@172.18.99.220) 0.59ms\n",
      "\u001b[32m[I 2017-02-09 11:34:51.996 JupyterHub log:100]\u001b(B\u001b[m 302 GET /hub/ (@172.18.99.220) 1.24ms\n",
      "\u001b[32m[I 2017-02-09 11:34:52.031 JupyterHub log:100]\u001b(B\u001b[m 302 GET /login (@172.18.99.220) 1.74ms\n",
      "\u001b[32m[I 2017-02-09 11:34:52.076 JupyterHub log:100]\u001b(B\u001b[m 200 GET /hub/login (@172.18.99.220) 40.46ms\n",
      "\u001b[32m[I 2017-02-09 11:35:00.750 JupyterHub spawner:783]\u001b(B\u001b[m Spawning jupyterhub-singleuser '--user=\"abr-sadm\"' '--cookie-name=\"jupyter-hub-token-abr-sadm\"' '--base-url=\"/user/abr-sadm\"' '--hub-host=\"\"' '--hub-prefix=\"/hub/\"' '--hub-api-url=\"http://127.0.0.1:8081/hub/api\"' '--ip=\"127.0.0.1\"' --port=58677\n",
      "[W 2017-02-09 11:35:01.259 abr-sadm configurable:168] Config option `open_browser` not recognized by `SingleUserNotebookApp`.  Did you mean `browser`?\n",
      "[I 2017-02-09 11:35:02.129 abr-sadm manager:32] [nb_conda_kernels] enabled, 2 kernels found\n",
      "[I 2017-02-09 11:35:02.142 abr-sadm notebookapp:503] Writing notebook server cookie secret to /home/abr-sadm/.local/share/jupyter/runtime/notebook_cookie_secret\n",
      "[I 2017-02-09 11:35:03.049 abr-sadm handlers:73] [nb_anacondacloud] enabled\n",
      "[I 2017-02-09 11:35:03.054 abr-sadm handlers:290] [nb_conda] enabled\n",
      "[I 2017-02-09 11:35:03.176 abr-sadm __init__:35] ✓ nbpresent HTML export ENABLED\n",
      "[W 2017-02-09 11:35:03.177 abr-sadm __init__:43] ✗ nbpresent PDF export DISABLED: No module named 'nbbrowserpdf'\n",
      "[I 2017-02-09 11:35:03.178 abr-sadm notebookapp:1128] Serving notebooks from local directory: /home/abr-sadm\n",
      "[I 2017-02-09 11:35:03.178 abr-sadm notebookapp:1128] 0 active kernels \n",
      "[I 2017-02-09 11:35:03.178 abr-sadm notebookapp:1128] The Jupyter Notebook is running at: http://127.0.0.1:58677/user/abr-sadm/\n",
      "[I 2017-02-09 11:35:03.178 abr-sadm notebookapp:1129] Use Control-C to stop this server and shut down all kernels (twice to skip confirmation).\n",
      "\u001b[32m[I 2017-02-09 11:35:03.187 JupyterHub base:322]\u001b(B\u001b[m User abr-sadm server took 2.472 seconds to start\n",
      "\u001b[32m[I 2017-02-09 11:35:03.187 JupyterHub orm:188]\u001b(B\u001b[m Adding user abr-sadm to proxy /user/abr-sadm => http://127.0.0.1:58677\n",
      "[I 2017-02-09 11:35:03.192 abr-sadm log:47] 302 GET /user/abr-sadm (127.0.0.1) 7.47ms\n",
      "\u001b[32m[I 2017-02-09 11:35:03.213 JupyterHub log:100]\u001b(B\u001b[m 302 POST /hub/login?next= (@172.18.99.220) 2889.51ms\n",
      "\u001b[32m[I 2017-02-09 11:35:03.213 JupyterHub login:91]\u001b(B\u001b[m User logged in: abr-sadm\n",
      "[I 2017-02-09 11:35:03.232 abr-sadm log:47] 302 GET /user/abr-sadm (172.18.99.220) 1.65ms\n",
      "\u001b[32m[I 2017-02-09 11:35:03.235 JupyterHub log:100]\u001b(B\u001b[m 302 GET /hub/ (abr-sadm@172.18.99.220) 7.87ms\n",
      "\u001b[32m[I 2017-02-09 11:35:03.293 JupyterHub log:100]\u001b(B\u001b[m 200 GET /hub/api/authorizations/cookie/jupyter-hub-token-abr-sadm/[secret] (abr-sadm@127.0.0.1) 22.87ms\n",
      "\n",
      "Interrupted\n",
      "\u001b[32m[I 2017-02-09 11:35:16.282 JupyterHub app:1332]\u001b(B\u001b[m Cleaning up single-user servers...\n",
      "\u001b[32m[I 2017-02-09 11:35:16.299 JupyterHub app:1343]\u001b(B\u001b[m Cleaning up proxy[59102]...\n",
      "[I 2017-02-09 11:35:16.320 abr-sadm notebookapp:1083] Shutting down kernels\n",
      "\u001b[32m[I 2017-02-09 11:35:16.662 JupyterHub app:1369]\u001b(B\u001b[m ...done\n",
      "Connection to kact-srv-001.kact.sblokalnet closed.\n"
     ]
    }
   ],
   "source": [
    "remotesudo jupyterhub -f /etc/jupyterhub/jupyterhub_config.py --no-ssl --ip=\\$\\(hostname -f \\)"
   ]
  },
  {
   "cell_type": "markdown",
   "metadata": {},
   "source": [
    "By default, the users connecting to JupyterHub will be validated by the operating system using PAM authentication. The users we connect with must have a password.\n",
    "\n",
    "For the validation we assume that two non-privileged users exist on the system, **nick** and **frank**. Both users have a home directory on the Linux file system and an HDFS directory they own, respectively /user/nick and /user/frank. The permissions on the HDFS directories have been set to 700 so that only the owner of the directory has full access rights."
   ]
  },
  {
   "cell_type": "code",
   "execution_count": null,
   "metadata": {
    "collapsed": true,
    "run_control": {
     "frozen": false,
     "read_only": false
    }
   },
   "outputs": [],
   "source": [
    "remote << EOL\n",
    "sudo hdfs dfs -mkdir /user/nick\n",
    "sudo hdfs dfs -mkdir /user/frank\n",
    "sudo hdfs dfs -chown nick:nick /user/nick\n",
    "sudo hdfs dfs -chown frank:frank /user/frank\n",
    "sudo hdfs dfs -chmod 700 /user/nick \n",
    "sudo hdfs dfs -chmod 700 /user/frank\n",
    "EOL"
   ]
  },
  {
   "cell_type": "markdown",
   "metadata": {},
   "source": [
    "Now, connect to JupyterHub through URL `http://<server-name>:8000`\n",
    "\n",
    "![](hubLogin.png)\n",
    "\n",
    "Log on with user **nick** and the specified password. The list of notebooks should be empty and the permissions are applied when connecting to the HDFS.\n",
    "\n",
    "Create a Scala notebook and enter the following statements.\n",
    "\n",
    "    import scala.io.Source\n",
    "    val html = scala.io.Source.fromURL(\"https://github.com/databricks/spark-csv/raw/master/src/test/resources/cars.csv\").mkString\n",
    "    val list = html.split(\"\\n\").filter(_ != \"\")\n",
    "    val rdds = sc.parallelize(list)\n",
    "    rdds.saveAsTextFile(\"/user/nick/cars.csv\")"
   ]
  },
  {
   "cell_type": "markdown",
   "metadata": {},
   "source": [
    "Now log on as user **frank**, create a new notebook and try to access the file in directory /user/nick.\n",
    "\n",
    "    val rdd=sc.textFile(\"/user/nick/car.csv\")\n",
    "    rdd.count    \n",
    "    \n",
    "You will get an error as user **frank** is not allowed to access the file in directory /user/nick.    \n",
    "\n",
    "![](permissionError.png)"
   ]
  },
  {
   "cell_type": "markdown",
   "metadata": {},
   "source": [
    "### Locking down the environment\n",
    "Once you have installed JupyterHub and validated its working, it is best to put some security in place."
   ]
  },
  {
   "cell_type": "markdown",
   "metadata": {},
   "source": [
    "#### Running JupyterHub without root\n",
    "First steps taken from\n",
    "https://github.com/jupyterhub/jupyterhub/wiki/Using-sudo-to-run-JupyterHub-without-root-privileges "
   ]
  },
  {
   "cell_type": "markdown",
   "metadata": {},
   "source": [
    "First we install the sudo spawner, that allows jupyterhub to spawn new jupyters as the logged in user via sudo. This is nessesary when jupyterhub is not running as root"
   ]
  },
  {
   "cell_type": "code",
   "execution_count": 43,
   "metadata": {
    "ExecuteTime": {
     "end_time": "2017-02-09T17:13:33.812407",
     "start_time": "2017-02-09T17:13:26.839667"
    },
    "collapsed": false,
    "run_control": {
     "frozen": false,
     "read_only": false
    }
   },
   "outputs": [
    {
     "name": "stdout",
     "output_type": "stream",
     "text": [
      "Collecting git+https://github.com/jupyter/sudospawner\n",
      "  Cloning https://github.com/jupyter/sudospawner to ./pip-bpc8ybh7-build\n",
      "Requirement already satisfied (use --upgrade to upgrade): jupyterhub>=0.4 in /opt/anaconda3/lib/python3.5/site-packages (from sudospawner==0.3.0)\n",
      "Requirement already satisfied (use --upgrade to upgrade): notebook in /opt/anaconda3/lib/python3.5/site-packages (from sudospawner==0.3.0)\n",
      "Requirement already satisfied (use --upgrade to upgrade): pamela in /opt/anaconda3/lib/python3.5/site-packages (from jupyterhub>=0.4->sudospawner==0.3.0)\n",
      "Requirement already satisfied (use --upgrade to upgrade): alembic in /opt/anaconda3/lib/python3.5/site-packages (from jupyterhub>=0.4->sudospawner==0.3.0)\n",
      "Requirement already satisfied (use --upgrade to upgrade): sqlalchemy>=1.0 in /opt/anaconda3/lib/python3.5/site-packages (from jupyterhub>=0.4->sudospawner==0.3.0)\n",
      "Requirement already satisfied (use --upgrade to upgrade): jinja2 in /opt/anaconda3/lib/python3.5/site-packages (from jupyterhub>=0.4->sudospawner==0.3.0)\n",
      "Requirement already satisfied (use --upgrade to upgrade): traitlets>=4.1 in /opt/anaconda3/lib/python3.5/site-packages (from jupyterhub>=0.4->sudospawner==0.3.0)\n",
      "Requirement already satisfied (use --upgrade to upgrade): tornado>=4.1 in /opt/anaconda3/lib/python3.5/site-packages (from jupyterhub>=0.4->sudospawner==0.3.0)\n",
      "Requirement already satisfied (use --upgrade to upgrade): requests in /opt/anaconda3/lib/python3.5/site-packages (from jupyterhub>=0.4->sudospawner==0.3.0)\n",
      "Requirement already satisfied (use --upgrade to upgrade): python-editor>=0.3 in /opt/anaconda3/lib/python3.5/site-packages (from alembic->jupyterhub>=0.4->sudospawner==0.3.0)\n",
      "Requirement already satisfied (use --upgrade to upgrade): Mako in /opt/anaconda3/lib/python3.5/site-packages (from alembic->jupyterhub>=0.4->sudospawner==0.3.0)\n",
      "Requirement already satisfied (use --upgrade to upgrade): MarkupSafe in /opt/anaconda3/lib/python3.5/site-packages (from jinja2->jupyterhub>=0.4->sudospawner==0.3.0)\n",
      "Installing collected packages: sudospawner\n",
      "  Running setup.py install for sudospawner: started\n",
      "    Running setup.py install for sudospawner: finished with status 'done'\n",
      "Successfully installed sudospawner-0.3.0\n",
      "You are using pip version 8.1.2, however version 9.0.1 is available.\n",
      "You should consider upgrading via the 'pip install --upgrade pip' command.\n"
     ]
    }
   ],
   "source": [
    "remotesudo $conda pip install git+https://github.com/jupyter/sudospawner"
   ]
  },
  {
   "cell_type": "markdown",
   "metadata": {},
   "source": [
    "But it is not so easy. There are a number of further steps we need to go through"
   ]
  },
  {
   "cell_type": "markdown",
   "metadata": {},
   "source": [
    "##### create a jupyterhub user - jupyterhub\n",
    "\n",
    "From some defaults, we have chosen the user to be called jupyterhub. Create this user in whatever fashion is appropriate for your system"
   ]
  },
  {
   "cell_type": "markdown",
   "metadata": {},
   "source": [
    "##### Give rhea sudo access\n",
    "\n",
    "We need to enable the user (jupyterhub) to run sudo\n",
    "\n",
    "Add/replace this into /etc/sudoers\n",
    "\n",
    "    Defaults    secure_path = /sbin:/bin:/usr/sbin:/usr/bin:/opt/anaconda3/bin\n",
    "    #Defaults    requiretty\n",
    "\n",
    "In effect, we add the anaconda bin dir to the path that will always be available for sudo commands. This is nessesary. And we drop the requirement that you must have a tty. This is nessesary. It would be nicer if this could be done from FreeIPA, but....\n",
    "\n",
    "This could probably be setup for specific users instead of a global setting...\n",
    "\n",
    "Oh, and rhea must have passwordless sudo. Possible it is enough to give her access to sudospawner, but this works"
   ]
  },
  {
   "cell_type": "code",
   "execution_count": 44,
   "metadata": {
    "ExecuteTime": {
     "end_time": "2017-02-09T17:13:54.389792",
     "start_time": "2017-02-09T17:13:52.984029"
    },
    "collapsed": false,
    "run_control": {
     "frozen": false,
     "read_only": false
    }
   },
   "outputs": [
    {
     "name": "stdout",
     "output_type": "stream",
     "text": [
      "Matching Defaults entries for jupyterhub on this host:\n",
      "    always_set_home, env_reset, env_keep=\"COLORS DISPLAY HOSTNAME HISTSIZE INPUTRC KDEDIR LS_COLORS\", env_keep+=\"MAIL PS1 PS2 QTDIR USERNAME LANG LC_ADDRESS LC_CTYPE\", env_keep+=\"LC_COLLATE LC_IDENTIFICATION LC_MEASUREMENT LC_MESSAGES\", env_keep+=\"LC_MONETARY LC_NAME LC_NUMERIC LC_PAPER LC_TELEPHONE\", env_keep+=\"LC_TIME LC_ALL LANGUAGE LINGUAS _XKB_CHARSET XAUTHORITY\", secure_path=/sbin\\:/bin\\:/usr/sbin\\:/usr/bin, !requiretty, !env_reset, env_delete-=PATH\n",
      "\n",
      "User jupyterhub may run the following commands on this host:\n",
      "    (root) \n",
      "    (root) NOPASSWD: /opt/anaconda3/bin/sudospawner\n"
     ]
    }
   ],
   "source": [
    "remote sudo -U jupyterhub -l"
   ]
  },
  {
   "cell_type": "markdown",
   "metadata": {},
   "source": [
    "This should give something like\n",
    "\n",
    "    Matching Defaults entries for rhea on this host:\n",
    "        !visiblepw, always_set_home, env_reset, env_keep=\"COLORS DISPLAY HOSTNAME\n",
    "        HISTSIZE INPUTRC KDEDIR LS_COLORS\", env_keep+=\"MAIL PS1 PS2 QTDIR USERNAME\n",
    "        LANG LC_ADDRESS LC_CTYPE\", env_keep+=\"LC_COLLATE LC_IDENTIFICATION\n",
    "        LC_MEASUREMENT LC_MESSAGES\", env_keep+=\"LC_MONETARY LC_NAME LC_NUMERIC\n",
    "        LC_PAPER LC_TELEPHONE\", env_keep+=\"LC_TIME LC_ALL LANGUAGE LINGUAS\n",
    "        _XKB_CHARSET XAUTHORITY\",\n",
    "        secure_path=/sbin\\:/bin\\:/usr/sbin\\:/usr/bin\\:/opt/anaconda3/bin\n",
    "\n",
    "    User rhea may run the following commands on this host:\n",
    "        (ALL : ALL) NOPASSWD: /opt/anaconda3/bin/sudospawner"
   ]
  },
  {
   "cell_type": "markdown",
   "metadata": {},
   "source": [
    "##### DBUS\n",
    "\n",
    "If you get errors like this in /var/log/messages\n",
    "\n",
    "    [system] Rejected send message, 2 matched rules; type=\"method_call\", sender=\":1.2292\" (uid=1031 pid=59107 comm=\"/opt/anaconda3/bin/python /opt/anaconda3/bin/jupyt\") interface=\"org.freedesktop.login1.Manager\" member=\"CreateSession\" error name=\"(unset)\" requested_reply=\"0\" destination=\"org.freedesktop.login1\" (uid=0 pid=823 comm=\"/usr/lib/systemd/systemd-logind \")\n",
    "\n",
    "You need to enable the user rhea to handle login sessions. Per default, only processes run as root can do logins. "
   ]
  },
  {
   "cell_type": "code",
   "execution_count": 12,
   "metadata": {
    "ExecuteTime": {
     "end_time": "2017-02-09T15:30:22.217550",
     "start_time": "2017-02-09T15:30:21.165378"
    },
    "collapsed": false,
    "run_control": {
     "frozen": false,
     "read_only": false
    }
   },
   "outputs": [
    {
     "name": "stdout",
     "output_type": "stream",
     "text": [
      "Pseudo-terminal will not be allocated because stdin is not a terminal.\n",
      "\n",
      "<?xml version=\"1.0\"?> <!--*-nxml-*-->\n",
      "<!DOCTYPE busconfig PUBLIC \"-//freedesktop//DTD D-BUS Bus Configuration 1.0//EN\"\n",
      "        \"http://www.freedesktop.org/standards/dbus/1.0/busconfig.dtd\">\n",
      "<busconfig>\n",
      "        <policy user=\"jupyterhub\">\n",
      "                <allow send_destination=\"org.freedesktop.login1\"/>\n",
      "                <allow receive_sender=\"org.freedesktop.login1\"/>\n",
      "        </policy>\n",
      "</busconfig>\n",
      "\n"
     ]
    }
   ],
   "source": [
    "python << EOX | remotesudo tee  /etc/dbus-1/system.d/jupyterhub.conf\n",
    "print(\"\"\"\n",
    "<?xml version=\"1.0\"?> <!--*-nxml-*-->\n",
    "<!DOCTYPE busconfig PUBLIC \"-//freedesktop//DTD D-BUS Bus Configuration 1.0//EN\"\n",
    "        \"http://www.freedesktop.org/standards/dbus/1.0/busconfig.dtd\">\n",
    "<busconfig>\n",
    "        <policy user=\"jupyterhub\">\n",
    "                <allow send_destination=\"org.freedesktop.login1\"/>\n",
    "                <allow receive_sender=\"org.freedesktop.login1\"/>\n",
    "        </policy>\n",
    "</busconfig>\n",
    "\"\"\")\n",
    "EOX"
   ]
  },
  {
   "cell_type": "markdown",
   "metadata": {},
   "source": [
    "Restart the dbus deamon. This disconnects the login daemon.... So restart it also"
   ]
  },
  {
   "cell_type": "code",
   "execution_count": null,
   "metadata": {
    "collapsed": true,
    "run_control": {
     "frozen": false,
     "read_only": false
    }
   },
   "outputs": [],
   "source": [
    "remotesudo service dbus restart"
   ]
  },
  {
   "cell_type": "code",
   "execution_count": 14,
   "metadata": {
    "ExecuteTime": {
     "end_time": "2017-02-09T15:30:59.184060",
     "start_time": "2017-02-09T15:30:57.870517"
    },
    "collapsed": false,
    "run_control": {
     "frozen": false,
     "read_only": false
    }
   },
   "outputs": [
    {
     "name": "stdout",
     "output_type": "stream",
     "text": [
      "Connection to kact-srv-001.kact.sblokalnet closed.\r\n"
     ]
    }
   ],
   "source": [
    "remotesudo systemctl restart systemd-logind"
   ]
  },
  {
   "cell_type": "markdown",
   "metadata": {},
   "source": [
    "##### PAM\n",
    "\n",
    "JupyterHub authenticates as the \"login\" pam service. I feel that it is a lot more clear to make a separate pam service for jupyterhub. To do this, we duplicate the login service as a new pam service \"jupyterhub\""
   ]
  },
  {
   "cell_type": "code",
   "execution_count": 15,
   "metadata": {
    "ExecuteTime": {
     "end_time": "2017-02-09T15:31:10.707719",
     "start_time": "2017-02-09T15:31:09.298435"
    },
    "collapsed": false,
    "run_control": {
     "frozen": false,
     "read_only": false
    }
   },
   "outputs": [
    {
     "name": "stdout",
     "output_type": "stream",
     "text": [
      "Connection to kact-srv-001.kact.sblokalnet closed.\r\n"
     ]
    }
   ],
   "source": [
    "remotesudo cp /etc/pam.d/login /etc/pam.d/jupyterhub"
   ]
  },
  {
   "cell_type": "markdown",
   "metadata": {},
   "source": [
    "Then /etc/jupyterhub/jupyterhub_config.py in uncomment this line\n",
    "\n",
    "    c.PAMAuthenticator.service = 'jupyterhub'"
   ]
  },
  {
   "cell_type": "markdown",
   "metadata": {},
   "source": [
    "#### Setting up SSL encryption\n",
    "Refer to section https://github.com/jupyterhub/jupyterhub/blob/master/docs/source/getting-started.md#ssl-encryption for setting up SSL for JupyterHub. After setting up SSL, "
   ]
  },
  {
   "cell_type": "code",
   "execution_count": 17,
   "metadata": {
    "ExecuteTime": {
     "end_time": "2017-02-09T15:34:16.504776",
     "start_time": "2017-02-09T15:34:15.093212"
    },
    "collapsed": false,
    "run_control": {
     "frozen": false,
     "read_only": false
    }
   },
   "outputs": [
    {
     "name": "stdout",
     "output_type": "stream",
     "text": [
      "Connection to kact-srv-001.kact.sblokalnet closed.\r\n"
     ]
    }
   ],
   "source": [
    "remotesudo sed -i \\\"sI.*c\\.JupyterHub\\.ssl_cert.*Ic.JupyterHub.ssl_cert = '/etc/ssl/certs/jupyterhub.cert'Ig\\\" /etc/jupyterhub/jupyterhub_config.py"
   ]
  },
  {
   "cell_type": "markdown",
   "metadata": {},
   "source": [
    "you should run JupyterHub without the --no-ssl parameter.\n",
    "\n",
    "\n",
    "##### Generate a SSL certificate\n",
    "Skip this step if you already have a ssl certificate you want to use\n",
    "\n",
    "Generate the request"
   ]
  },
  {
   "cell_type": "code",
   "execution_count": null,
   "metadata": {
    "ExecuteTime": {
     "start_time": "2017-02-09T14:35:17.741Z"
    },
    "collapsed": false,
    "run_control": {
     "frozen": false,
     "read_only": false
    }
   },
   "outputs": [
    {
     "name": "stdout",
     "output_type": "stream",
     "text": [
      "Generating a 2048 bit RSA private key\n",
      "..+++\n",
      ".....+++\n",
      "writing new private key to 'privkey.pem'\n"
     ]
    }
   ],
   "source": [
    "openssl req -new > jupyterhub.ssl.csr"
   ]
  },
  {
   "cell_type": "markdown",
   "metadata": {},
   "source": [
    "Generate the certificate\n",
    "\n",
    "\topenssl rsa -in privkey.pem -out jupyterhub.cert.key\n",
    "\topenssl x509 -in jupyterhub.ssl.csr -out jupyterhub.cert.cert -req -signkey jupyterhub.cert.key\n",
    "\n",
    "These steps require you to enter a password, so do them locally, not through this workbook"
   ]
  },
  {
   "cell_type": "markdown",
   "metadata": {},
   "source": [
    "##### Install the SSL certificate"
   ]
  },
  {
   "cell_type": "markdown",
   "metadata": {},
   "source": [
    "There is a problem with sudo and kerberos-enabled automounted home folders in my system, so I created this function to allow me to use sudo to cp a file from my home folder"
   ]
  },
  {
   "cell_type": "code",
   "execution_count": null,
   "metadata": {
    "collapsed": false,
    "run_control": {
     "frozen": false,
     "read_only": false
    }
   },
   "outputs": [],
   "source": [
    "python << EOB | remotesudo tee  /etc/profile.d/root_cp.sh\n",
    "print(\"\"\"\n",
    "function root_cp(){\n",
    "        files=\"${@:1:$(($#-1))}\"\n",
    "        name=\"${@: -1}\"\n",
    "        if [ -d \"$name\" ]; then\n",
    "                for file in $files; do\n",
    "                        cat \"$file\" | sudo bash -c \"cat - > \\\"$name/\\$(basename $file)\\\"\"\n",
    "                done\n",
    "        else\n",
    "                for file in $files; do\n",
    "                        cat \"$file\" | sudo bash -c \"cat - > \\\"$name\\\"\"\n",
    "                done\n",
    "        fi\n",
    "}\n",
    "export root_cp \n",
    "\"\"\")\n",
    "EOB"
   ]
  },
  {
   "cell_type": "markdown",
   "metadata": {},
   "source": [
    "Install the certificate in the expected location"
   ]
  },
  {
   "cell_type": "code",
   "execution_count": null,
   "metadata": {
    "collapsed": false,
    "run_control": {
     "frozen": false,
     "read_only": false
    }
   },
   "outputs": [],
   "source": [
    "remote root_cp jupyterhub.cert.cert /etc/ssl/certs/juputerhub.cert\n",
    "remotesudo mkdir -p /etc/ssl/private\n",
    "remote root_cp ~/jupyterhub.cert.key /etc/ssl/private/jupyterhub.key\n",
    "remotesudo chown rhea /etc/ssl/private/jupyterhub.key\n",
    "remotesudo chmod o-rwx /etc/ssl/private/jupyterhub.key"
   ]
  },
  {
   "cell_type": "markdown",
   "metadata": {},
   "source": [
    "Configure Jupyterhub to use this certificate"
   ]
  },
  {
   "cell_type": "code",
   "execution_count": null,
   "metadata": {
    "collapsed": false,
    "run_control": {
     "frozen": false,
     "read_only": false
    }
   },
   "outputs": [],
   "source": [
    "key1=\"c\\.JupyterHub\\.ssl_cert\"\n",
    "value1=\"c.JupyterHub.ssl_cert = '/etc/ssl/certs/jupyterhub.crt'\"\n",
    "remotesudo sed -i \\\"sI.*${key1}.*I${value1}Ig\\\" /etc/jupyterhub/jupyterhub_config.py\n",
    "\n",
    "key2=\"c\\.JupyterHub\\.ssl_key\"\n",
    "value2=\"c.JupyterHub.ssl_key = '/etc/ssl/private/jupyterhub.key'\"\n",
    "remotesudo sed -i \\\"sI.*${key2}.*I${value2}Ig\\\" /etc/jupyterhub/jupyterhub_config.py\n",
    "\n",
    "remote grep ssl /etc/jupyterhub/jupyterhub_config.py"
   ]
  },
  {
   "cell_type": "markdown",
   "metadata": {},
   "source": [
    "#### Create a whitelist of allowed users\n",
    "This is an extra security measure so that only a specific group of users can access JupyterHub. Update the /etc/jupyter/jupyterhub_config.py file and update the c.Authenticator.whitelist parameter to only include those users who can have access.\n",
    "More information can be found here: https://github.com/jupyterhub/jupyterhub/blob/master/docs/source/getting-started.md#authentication-and-users "
   ]
  },
  {
   "cell_type": "markdown",
   "metadata": {},
   "source": [
    "#### Create directories to keep the notebooks\n",
    "To keep notebooks secured from access by other users, it is best to create a directory under the user's home directory and specify this directory as the default notebook directory. More information can be found here: https://github.com/jupyterhub/jupyterhub/blob/master/docs/source/getting-started.md#spawners-and-single-user-notebook-servers "
   ]
  },
  {
   "cell_type": "markdown",
   "metadata": {},
   "source": [
    "## JupyterHub as system service\n"
   ]
  },
  {
   "cell_type": "code",
   "execution_count": 48,
   "metadata": {
    "ExecuteTime": {
     "end_time": "2017-02-09T17:39:12.228843",
     "start_time": "2017-02-09T17:39:08.625749"
    },
    "collapsed": false,
    "run_control": {
     "frozen": false,
     "read_only": false
    }
   },
   "outputs": [
    {
     "name": "stdout",
     "output_type": "stream",
     "text": [
      "\n",
      "[Unit]\n",
      "Description=Jupyterhub\n",
      "After=network-online.target\n",
      "\n",
      "[Service]\n",
      "#The system user for jupyterhub\n",
      "User=jupyterhub\n",
      "\n",
      "#Two ways of specifying the runtime directory\n",
      "RuntimeDirectory=jupyterhub\n",
      "WorkingDirectory=/var/run/jupyterhub\n",
      "\n",
      "#This sets up the logging directory\n",
      "PermissionsStartOnly=true\n",
      "ExecStartPre=/usr/bin/mkdir -p /var/log/jupyterhub\n",
      "ExecStartPre=/usr/bin/touch /var/log/jupyterhub/jupyterhub.log\n",
      "ExecStartPre=/usr/bin/chown jupyterhub /var/log/jupyterhub -R\n",
      "\n",
      "#Set the path to include anaconda3\n",
      "Environment=\"PATH=/opt/anaconda3/bin/:/bin:/usr/local/sbin:/usr/local/bin:/usr/sbin:/usr/bin\"\n",
      "\n",
      "#Param explanation\n",
      "#Config = path to config file\n",
      "#Log file = the log file we did all the work above to get writable\n",
      "#ip = the ip where the server will listen. Set to $SERVER, defined in this workbook\n",
      "ExecStart=source /opt/conda/bin/activate /opt/conda && /opt/anaconda3/bin/jupyterhub --config=/etc/jupyterhub/jupyterhub_config.py --log-file=/var/log/jupyterhub/jupyterhub.log --ip=\"kact-srv-001.kact.sblokalnet\" \n",
      "[Install]\n",
      "WantedBy=multi-user.target\n",
      "\n"
     ]
    }
   ],
   "source": [
    "python << EOS | remotesudo tee  /lib/systemd/system/jupyterhub.service\n",
    "print(\"\"\"\n",
    "[Unit]\n",
    "Description=Jupyterhub\n",
    "After=network-online.target\n",
    "\n",
    "[Service]\n",
    "#The system user for jupyterhub\n",
    "User=jupyterhub\n",
    "\n",
    "#Two ways of specifying the runtime directory\n",
    "RuntimeDirectory=jupyterhub\n",
    "WorkingDirectory=/var/run/jupyterhub\n",
    "\n",
    "#This sets up the logging directory\n",
    "PermissionsStartOnly=true\n",
    "ExecStartPre=/usr/bin/mkdir -p /var/log/jupyterhub\n",
    "ExecStartPre=/usr/bin/touch /var/log/jupyterhub/jupyterhub.log\n",
    "ExecStartPre=/usr/bin/chown jupyterhub /var/log/jupyterhub -R\n",
    "\n",
    "#Set the path to include anaconda3\n",
    "Environment=\"PATH=/opt/anaconda3/bin/:/bin:/usr/local/sbin:/usr/local/bin:/usr/sbin:/usr/bin\"\n",
    "\n",
    "#Param explanation\n",
    "#Config = path to config file\n",
    "#Log file = the log file we did all the work above to get writable\n",
    "#ip = the ip where the server will listen. Set to \\$SERVER, defined in this workbook\n",
    "ExecStart=source /opt/conda/bin/activate /opt/conda && \\\n",
    "/opt/anaconda3/bin/jupyterhub \\\n",
    "--config=/etc/jupyterhub/jupyterhub_config.py \\\n",
    "--log-file=/var/log/jupyterhub/jupyterhub.log \\\n",
    "--ip=\"$SERVER\" \\\n",
    "\n",
    "[Install]\n",
    "WantedBy=multi-user.target\n",
    "\"\"\")\n",
    "EOS\n",
    "remotesudo systemctl daemon-reload"
   ]
  },
  {
   "cell_type": "code",
   "execution_count": 47,
   "metadata": {
    "ExecuteTime": {
     "end_time": "2017-02-09T17:33:55.197493",
     "start_time": "2017-02-09T17:33:52.445770"
    },
    "collapsed": false,
    "run_control": {
     "frozen": false,
     "read_only": false
    }
   },
   "outputs": [
    {
     "name": "stdout",
     "output_type": "stream",
     "text": [
      "● jupyterhub.service - Jupyterhub\n",
      "   Loaded: loaded (/usr/lib/systemd/system/jupyterhub.service; disabled; vendor preset: disabled)\n",
      "   Active: active (running) since tor 2017-02-09 17:33:54 CET; 1s ago\n",
      "  Process: 19525 ExecStartPre=/usr/bin/chown jupyterhub /var/log/jupyterhub -R (code=exited, status=0/SUCCESS)\n",
      "  Process: 19521 ExecStartPre=/usr/bin/touch /var/log/jupyterhub/jupyterhub.log (code=exited, status=0/SUCCESS)\n",
      "  Process: 19520 ExecStartPre=/usr/bin/mkdir -p /var/log/jupyterhub (code=exited, status=0/SUCCESS)\n",
      " Main PID: 19527 (jupyterhub)\n",
      "   CGroup: /system.slice/jupyterhub.service\n",
      "           ├─19527 /opt/anaconda3/bin/python /opt/anaconda3/bin/jupyterhub --config=/etc/jupyterhub/jupyterhub_config.py --log-file=/var/log/jupyterhub/jupyterhub.log --ip=\"kact-srv-001.kact.sblokalnet\"\n",
      "           └─19536 node /bin/configurable-http-proxy --ip kact-srv-001.kact.sblokalnet --port 8000 --api-ip 127.0.0.1 --api-port 8001 --default-target http://127.0.0.1:8081 --error-target http://127.0.0.1:8081/hub/error\n",
      "\n",
      "feb 09 17:33:54 kact-srv-001.kact.sblokalnet jupyterhub[19527]: [I 2017-02-09 17:33:54.826 JupyterHub app:745] Writing cookie_secret to /run/jupyterhub/jupyterhub_cookie_secret\n",
      "feb 09 17:33:54 kact-srv-001.kact.sblokalnet jupyterhub[19527]: [W 2017-02-09 17:33:54.941 JupyterHub app:365]\n",
      "feb 09 17:33:54 kact-srv-001.kact.sblokalnet jupyterhub[19527]: Generating CONFIGPROXY_AUTH_TOKEN. Restarting the Hub will require restarting the proxy.\n",
      "feb 09 17:33:54 kact-srv-001.kact.sblokalnet jupyterhub[19527]: Set CONFIGPROXY_AUTH_TOKEN env or JupyterHub.proxy_auth_token config to avoid this message.\n",
      "feb 09 17:33:54 kact-srv-001.kact.sblokalnet jupyterhub[19527]: [W 2017-02-09 17:33:54.953 JupyterHub app:864] No admin users, admin interface will be unavailable.\n",
      "feb 09 17:33:54 kact-srv-001.kact.sblokalnet jupyterhub[19527]: [W 2017-02-09 17:33:54.954 JupyterHub app:865] Add any administrative users to `c.Authenticator.admin_users` in config.\n",
      "feb 09 17:33:54 kact-srv-001.kact.sblokalnet jupyterhub[19527]: [I 2017-02-09 17:33:54.954 JupyterHub app:892] Not using whitelist. Any authenticated user will be allowed.\n",
      "feb 09 17:33:54 kact-srv-001.kact.sblokalnet jupyterhub[19527]: [I 2017-02-09 17:33:54.981 JupyterHub app:1453] Hub API listening on http://127.0.0.1:8081/hub/\n",
      "feb 09 17:33:54 kact-srv-001.kact.sblokalnet jupyterhub[19527]: [W 2017-02-09 17:33:54.989 JupyterHub app:1174] Running JupyterHub without SSL.  I hope there is SSL termination happening somewhere else...\n",
      "feb 09 17:33:54 kact-srv-001.kact.sblokalnet jupyterhub[19527]: [I 2017-02-09 17:33:54.990 JupyterHub app:1176] Starting proxy @ http://kact-srv-001.kact.sblokalnet:8000/\n"
     ]
    }
   ],
   "source": [
    "remotesudo systemctl stop jupyterhub\n",
    "remotesudo systemctl start jupyterhub\n",
    "remotesudo systemctl status jupyterhub -l"
   ]
  },
  {
   "cell_type": "code",
   "execution_count": 23,
   "metadata": {
    "ExecuteTime": {
     "end_time": "2017-02-09T15:59:58.553829",
     "start_time": "2017-02-09T15:59:57.151667"
    },
    "collapsed": false,
    "run_control": {
     "frozen": false,
     "read_only": false
    }
   },
   "outputs": [
    {
     "name": "stdout",
     "output_type": "stream",
     "text": [
      "\u001b[1;32m●\u001b[0m jupyterhub.service - Jupyterhub\n",
      "   Loaded: loaded (/usr/lib/systemd/system/jupyterhub.service; disabled; vendor preset: disabled)\n",
      "   Active: \u001b[1;32mactive (running)\u001b[0m since tor 2017-02-09 15:59:48 CET; 10s ago\n",
      "  Process: 5762 ExecStartPre=/usr/bin/chown jupyterhub /var/log/jupyterhub -R (code=exited, status=0/SUCCESS)\n",
      "  Process: 5760 ExecStartPre=/usr/bin/touch /var/log/jupyterhub/jupyterhub.log (code=exited, status=0/SUCCESS)\n",
      "  Process: 5757 ExecStartPre=/usr/bin/mkdir -p /var/log/jupyterhub (code=exited, status=0/SUCCESS)\n",
      " Main PID: 5764 (jupyterhub)\n",
      "   CGroup: /system.slice/jupyterhub.service\n",
      "           ├─5764 /opt/anaconda3/bin/python /opt/anaconda3/bin/jupyterhub --config=/etc/jupyterhub/jupyterhub_config.py --log-file=/var/log/jupyterhub/jupyterhub.log --ip=\"kact-srv-001.kact.sblokalnet\" --JupyterHub.spawner_class=sudospawner.SudoSpawner\n",
      "           └─5779 node /bin/configurable-http-proxy --ip kact-srv-001.kact.sblokalnet --port 8000 --api-ip 127.0.0.1 --api-port 8001 --default-target http://127.0.0.1:8081 --error-target http://127.0.0.1:8081/hub/error --ssl-key /etc/ssl/certs/jupyterhub.cert.key --ssl-cert /etc/ssl/certs/jupyterhub.cert\n",
      "\n",
      "feb 09 15:59:49 kact-srv-001.kact.sblokalnet jupyterhub[5764]: Generating CONFIGPROXY_AUTH_TOKEN. Restarting the Hub will require restarting the proxy.\n",
      "feb 09 15:59:49 kact-srv-001.kact.sblokalnet jupyterhub[5764]: Set CONFIGPROXY_AUTH_TOKEN env or JupyterHub.proxy_auth_token config to avoid this message.\n",
      "feb 09 15:59:49 kact-srv-001.kact.sblokalnet jupyterhub[5764]: [W 2017-02-09 15:59:49.192 JupyterHub app:864] No admin users, admin interface will be unavailable.\n",
      "feb 09 15:59:49 kact-srv-001.kact.sblokalnet jupyterhub[5764]: [W 2017-02-09 15:59:49.192 JupyterHub app:865] Add any administrative users to `c.Authenticator.admin_users` in config.\n",
      "feb 09 15:59:49 kact-srv-001.kact.sblokalnet jupyterhub[5764]: [I 2017-02-09 15:59:49.193 JupyterHub app:892] Not using whitelist. Any authenticated user will be allowed.\n",
      "feb 09 15:59:49 kact-srv-001.kact.sblokalnet jupyterhub[5764]: [I 2017-02-09 15:59:49.213 JupyterHub app:1453] Hub API listening on http://127.0.0.1:8081/hub/\n",
      "feb 09 15:59:49 kact-srv-001.kact.sblokalnet jupyterhub[5764]: [I 2017-02-09 15:59:49.220 JupyterHub app:1176] Starting proxy @ http://kact-srv-001.kact.sblokalnet:8000/\n",
      "feb 09 15:59:49 kact-srv-001.kact.sblokalnet jupyterhub[5764]: 15:59:49.402 - info: [ConfigProxy] Proxying https://kact-srv-001.kact.sblokalnet:8000 to http://127.0.0.1:8081\n",
      "feb 09 15:59:49 kact-srv-001.kact.sblokalnet jupyterhub[5764]: 15:59:49.406 - info: [ConfigProxy] Proxy API at http://127.0.0.1:8001/api/routes\n",
      "feb 09 15:59:49 kact-srv-001.kact.sblokalnet jupyterhub[5764]: [I 2017-02-09 15:59:49.428 JupyterHub app:1485] JupyterHub is now running at http://kact-srv-001.kact.sblokalnet:8000/\n",
      "Connection to kact-srv-001.kact.sblokalnet closed.\n"
     ]
    }
   ],
   "source": [
    "remotesudo systemctl status jupyterhub -l"
   ]
  },
  {
   "cell_type": "code",
   "execution_count": null,
   "metadata": {
    "collapsed": false,
    "run_control": {
     "frozen": false,
     "read_only": false
    }
   },
   "outputs": [],
   "source": [
    "remotesudo systemctl stop jupyterhub"
   ]
  },
  {
   "cell_type": "markdown",
   "metadata": {},
   "source": [
    "## Make jupyterhub admin users\n",
    "\n",
    "Made abr-sadm an initial admin user for jupyterhub\n",
    "\n",
    "in /etc/jupyterhub/jupyterhub_config.py, uncomment/add this line or use the code below\n",
    "\n",
    "    c.Authenticator.admin_users = {'abr-sadm'}"
   ]
  },
  {
   "cell_type": "code",
   "execution_count": 24,
   "metadata": {
    "ExecuteTime": {
     "end_time": "2017-02-09T16:01:07.094725",
     "start_time": "2017-02-09T16:01:05.401474"
    },
    "collapsed": false,
    "run_control": {
     "frozen": false,
     "read_only": false
    }
   },
   "outputs": [
    {
     "name": "stdout",
     "output_type": "stream",
     "text": [
      "Connection to kact-srv-001.kact.sblokalnet closed.\n",
      "## DEPRECATED, use Authenticator.\u001b[01;31m\u001b[Kadmin_users\u001b[m\u001b[K instead.\n",
      "#c.JupyterHub.\u001b[01;31m\u001b[Kadmin_users\u001b[m\u001b[K = set()\n",
      "c.Authenticator.\u001b[01;31m\u001b[Kadmin_users\u001b[m\u001b[K = {'abr-sadm'}\n",
      "Connection to kact-srv-001.kact.sblokalnet closed.\n"
     ]
    }
   ],
   "source": [
    "key=\"c\\.Authenticator\\.admin_users\"\n",
    "newValue=\"c.Authenticator.admin_users = {'abr-sadm'}\"\n",
    "remotesudo sed -i \\\"sI.*${key}.*I${newValue}Ig\\\" /etc/jupyterhub/jupyterhub_config.py\n",
    "remote grep admin_users /etc/jupyterhub/jupyterhub_config.py"
   ]
  },
  {
   "cell_type": "markdown",
   "metadata": {},
   "source": [
    "Restart the jupyterhub service"
   ]
  },
  {
   "cell_type": "code",
   "execution_count": 25,
   "metadata": {
    "ExecuteTime": {
     "end_time": "2017-02-09T16:01:13.231798",
     "start_time": "2017-02-09T16:01:11.680652"
    },
    "collapsed": false,
    "run_control": {
     "frozen": false,
     "read_only": false
    }
   },
   "outputs": [
    {
     "name": "stdout",
     "output_type": "stream",
     "text": [
      "Redirecting to /bin/systemctl restart  jupyterhub.service\n",
      "Connection to kact-srv-001.kact.sblokalnet closed.\n"
     ]
    }
   ],
   "source": [
    "remotesudo service jupyterhub restart"
   ]
  },
  {
   "cell_type": "markdown",
   "metadata": {},
   "source": [
    "Made all the subadmin users jupyterhub admins via the web interface\n",
    "http://kac-srv-001.kac.sblokalnet:8000/hub/admin"
   ]
  }
 ],
 "metadata": {
  "kernelspec": {
   "display_name": "Bash",
   "language": "bash",
   "name": "bash"
  },
  "language_info": {
   "codemirror_mode": "shell",
   "file_extension": ".sh",
   "mimetype": "text/x-sh",
   "name": "bash"
  },
  "toc": {
   "nav_menu": {
    "height": "387px",
    "width": "252px"
   },
   "navigate_menu": true,
   "number_sections": true,
   "sideBar": true,
   "threshold": 4,
   "toc_cell": true,
   "toc_position": {
    "height": "1004px",
    "left": "0px",
    "right": "1421px",
    "top": "106px",
    "width": "434px"
   },
   "toc_section_display": "block",
   "toc_window_display": true
  }
 },
 "nbformat": 4,
 "nbformat_minor": 0
}
